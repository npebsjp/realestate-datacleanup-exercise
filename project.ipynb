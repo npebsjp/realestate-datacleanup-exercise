{
 "cells": [
  {
   "attachments": {},
   "cell_type": "markdown",
   "id": "innocent-university",
   "metadata": {},
   "source": [
    "# Real Estate Clean up\n",
    "\n",
    "This is a real dataset, and it was downloaded using web scraping techniques. The data contains registers from **Fotocasa** which is one of the most popular real estate websites in Spain. Please, do not do this (web scraping) unless it is for academic purposes.\n",
    "\n",
    "The dataset was downloaded a few years ago by Henry Navarro, and in no case were economic returns obtained from it.\n",
    "\n",
    "It contains thousands of data from real houses published on the web www.fotocasa.com. Your goal is to extract as much information as possible with the knowledge you have so far about data science, for example what is the most expensive house in the entire dataset?\n",
    "\n",
    "Let's start with precisely that question... Good luck!"
   ]
  },
  {
   "attachments": {},
   "cell_type": "markdown",
   "id": "multiple-glass",
   "metadata": {},
   "source": [
    "#### Exercise 00. Read the dataset assets/real_estate.csv and try to visualize the table (★☆☆)"
   ]
  },
  {
   "cell_type": "code",
   "execution_count": 117,
   "id": "frank-heath",
   "metadata": {},
   "outputs": [
    {
     "data": {
      "text/html": [
       "<div>\n",
       "<style scoped>\n",
       "    .dataframe tbody tr th:only-of-type {\n",
       "        vertical-align: middle;\n",
       "    }\n",
       "\n",
       "    .dataframe tbody tr th {\n",
       "        vertical-align: top;\n",
       "    }\n",
       "\n",
       "    .dataframe thead th {\n",
       "        text-align: right;\n",
       "    }\n",
       "</style>\n",
       "<table border=\"1\" class=\"dataframe\">\n",
       "  <thead>\n",
       "    <tr style=\"text-align: right;\">\n",
       "      <th></th>\n",
       "      <th>Unnamed: 0</th>\n",
       "      <th>id_realEstates</th>\n",
       "      <th>isNew</th>\n",
       "      <th>realEstate_name</th>\n",
       "      <th>phone_realEstate</th>\n",
       "      <th>url_inmueble</th>\n",
       "      <th>rooms</th>\n",
       "      <th>bathrooms</th>\n",
       "      <th>surface</th>\n",
       "      <th>price</th>\n",
       "      <th>...</th>\n",
       "      <th>level4Id</th>\n",
       "      <th>level5Id</th>\n",
       "      <th>level6Id</th>\n",
       "      <th>level7Id</th>\n",
       "      <th>level8Id</th>\n",
       "      <th>accuracy</th>\n",
       "      <th>latitude</th>\n",
       "      <th>longitude</th>\n",
       "      <th>zipCode</th>\n",
       "      <th>customZone</th>\n",
       "    </tr>\n",
       "  </thead>\n",
       "  <tbody>\n",
       "    <tr>\n",
       "      <th>0</th>\n",
       "      <td>1</td>\n",
       "      <td>153771986</td>\n",
       "      <td>False</td>\n",
       "      <td>ferrari 57 inmobiliaria</td>\n",
       "      <td>912177526.0</td>\n",
       "      <td>https://www.fotocasa.es/es/comprar/vivienda/ma...</td>\n",
       "      <td>3.0</td>\n",
       "      <td>2.0</td>\n",
       "      <td>103.0</td>\n",
       "      <td>195000</td>\n",
       "      <td>...</td>\n",
       "      <td>0</td>\n",
       "      <td>0</td>\n",
       "      <td>0</td>\n",
       "      <td>0</td>\n",
       "      <td>0</td>\n",
       "      <td>0</td>\n",
       "      <td>40,2948276786438</td>\n",
       "      <td>-3,44402412135624</td>\n",
       "      <td>NaN</td>\n",
       "      <td>NaN</td>\n",
       "    </tr>\n",
       "    <tr>\n",
       "      <th>1</th>\n",
       "      <td>2</td>\n",
       "      <td>153867863</td>\n",
       "      <td>False</td>\n",
       "      <td>tecnocasa fuenlabrada ferrocarril</td>\n",
       "      <td>916358736.0</td>\n",
       "      <td>https://www.fotocasa.es/es/comprar/vivienda/ma...</td>\n",
       "      <td>3.0</td>\n",
       "      <td>1.0</td>\n",
       "      <td>NaN</td>\n",
       "      <td>89000</td>\n",
       "      <td>...</td>\n",
       "      <td>0</td>\n",
       "      <td>0</td>\n",
       "      <td>0</td>\n",
       "      <td>0</td>\n",
       "      <td>0</td>\n",
       "      <td>1</td>\n",
       "      <td>40,28674</td>\n",
       "      <td>-3,79351</td>\n",
       "      <td>NaN</td>\n",
       "      <td>NaN</td>\n",
       "    </tr>\n",
       "    <tr>\n",
       "      <th>2</th>\n",
       "      <td>3</td>\n",
       "      <td>153430440</td>\n",
       "      <td>False</td>\n",
       "      <td>look find boadilla</td>\n",
       "      <td>916350408.0</td>\n",
       "      <td>https://www.fotocasa.es/es/comprar/vivienda/ma...</td>\n",
       "      <td>2.0</td>\n",
       "      <td>2.0</td>\n",
       "      <td>99.0</td>\n",
       "      <td>390000</td>\n",
       "      <td>...</td>\n",
       "      <td>0</td>\n",
       "      <td>0</td>\n",
       "      <td>0</td>\n",
       "      <td>0</td>\n",
       "      <td>0</td>\n",
       "      <td>0</td>\n",
       "      <td>40,4115646786438</td>\n",
       "      <td>-3,90662252135624</td>\n",
       "      <td>NaN</td>\n",
       "      <td>NaN</td>\n",
       "    </tr>\n",
       "    <tr>\n",
       "      <th>3</th>\n",
       "      <td>4</td>\n",
       "      <td>152776331</td>\n",
       "      <td>False</td>\n",
       "      <td>tecnocasa fuenlabrada ferrocarril</td>\n",
       "      <td>916358736.0</td>\n",
       "      <td>https://www.fotocasa.es/es/comprar/vivienda/ma...</td>\n",
       "      <td>3.0</td>\n",
       "      <td>1.0</td>\n",
       "      <td>86.0</td>\n",
       "      <td>89000</td>\n",
       "      <td>...</td>\n",
       "      <td>0</td>\n",
       "      <td>0</td>\n",
       "      <td>0</td>\n",
       "      <td>0</td>\n",
       "      <td>0</td>\n",
       "      <td>0</td>\n",
       "      <td>40,2853785786438</td>\n",
       "      <td>-3,79508142135624</td>\n",
       "      <td>NaN</td>\n",
       "      <td>NaN</td>\n",
       "    </tr>\n",
       "    <tr>\n",
       "      <th>4</th>\n",
       "      <td>5</td>\n",
       "      <td>153180188</td>\n",
       "      <td>False</td>\n",
       "      <td>ferrari 57 inmobiliaria</td>\n",
       "      <td>912177526.0</td>\n",
       "      <td>https://www.fotocasa.es/es/comprar/vivienda/ma...</td>\n",
       "      <td>2.0</td>\n",
       "      <td>2.0</td>\n",
       "      <td>106.0</td>\n",
       "      <td>172000</td>\n",
       "      <td>...</td>\n",
       "      <td>0</td>\n",
       "      <td>0</td>\n",
       "      <td>0</td>\n",
       "      <td>0</td>\n",
       "      <td>0</td>\n",
       "      <td>0</td>\n",
       "      <td>40,2998774864376</td>\n",
       "      <td>-3,45226301356237</td>\n",
       "      <td>NaN</td>\n",
       "      <td>NaN</td>\n",
       "    </tr>\n",
       "  </tbody>\n",
       "</table>\n",
       "<p>5 rows × 37 columns</p>\n",
       "</div>"
      ],
      "text/plain": [
       "   Unnamed: 0  id_realEstates  isNew                    realEstate_name  \\\n",
       "0           1       153771986  False            ferrari 57 inmobiliaria   \n",
       "1           2       153867863  False  tecnocasa fuenlabrada ferrocarril   \n",
       "2           3       153430440  False                 look find boadilla   \n",
       "3           4       152776331  False  tecnocasa fuenlabrada ferrocarril   \n",
       "4           5       153180188  False            ferrari 57 inmobiliaria   \n",
       "\n",
       "   phone_realEstate                                       url_inmueble  rooms  \\\n",
       "0       912177526.0  https://www.fotocasa.es/es/comprar/vivienda/ma...    3.0   \n",
       "1       916358736.0  https://www.fotocasa.es/es/comprar/vivienda/ma...    3.0   \n",
       "2       916350408.0  https://www.fotocasa.es/es/comprar/vivienda/ma...    2.0   \n",
       "3       916358736.0  https://www.fotocasa.es/es/comprar/vivienda/ma...    3.0   \n",
       "4       912177526.0  https://www.fotocasa.es/es/comprar/vivienda/ma...    2.0   \n",
       "\n",
       "   bathrooms  surface   price  ... level4Id level5Id level6Id level7Id  \\\n",
       "0        2.0    103.0  195000  ...        0        0        0        0   \n",
       "1        1.0      NaN   89000  ...        0        0        0        0   \n",
       "2        2.0     99.0  390000  ...        0        0        0        0   \n",
       "3        1.0     86.0   89000  ...        0        0        0        0   \n",
       "4        2.0    106.0  172000  ...        0        0        0        0   \n",
       "\n",
       "  level8Id accuracy          latitude          longitude zipCode customZone  \n",
       "0        0        0  40,2948276786438  -3,44402412135624     NaN        NaN  \n",
       "1        0        1          40,28674           -3,79351     NaN        NaN  \n",
       "2        0        0  40,4115646786438  -3,90662252135624     NaN        NaN  \n",
       "3        0        0  40,2853785786438  -3,79508142135624     NaN        NaN  \n",
       "4        0        0  40,2998774864376  -3,45226301356237     NaN        NaN  \n",
       "\n",
       "[5 rows x 37 columns]"
      ]
     },
     "execution_count": 117,
     "metadata": {},
     "output_type": "execute_result"
    }
   ],
   "source": [
    "import pandas as pd\n",
    "\n",
    "# This CSV file contains semicolons instead of comas as separator\n",
    "ds = pd.read_csv('assets/real_estate.csv', sep=';')\n",
    "\n",
    "ds.head()\n"
   ]
  },
  {
   "cell_type": "code",
   "execution_count": 118,
   "id": "be957d8e",
   "metadata": {},
   "outputs": [
    {
     "data": {
      "text/plain": [
       "Index(['Unnamed: 0', 'id_realEstates', 'isNew', 'realEstate_name',\n",
       "       'phone_realEstate', 'url_inmueble', 'rooms', 'bathrooms', 'surface',\n",
       "       'price', 'date', 'description', 'address', 'country', 'level1',\n",
       "       'level2', 'level3', 'level4', 'level5', 'level6', 'level7', 'level8',\n",
       "       'upperLevel', 'countryId', 'level1Id', 'level2Id', 'level3Id',\n",
       "       'level4Id', 'level5Id', 'level6Id', 'level7Id', 'level8Id', 'accuracy',\n",
       "       'latitude', 'longitude', 'zipCode', 'customZone'],\n",
       "      dtype='object')"
      ]
     },
     "execution_count": 118,
     "metadata": {},
     "output_type": "execute_result"
    }
   ],
   "source": [
    "ds.columns"
   ]
  },
  {
   "cell_type": "code",
   "execution_count": 119,
   "id": "77cde68f",
   "metadata": {},
   "outputs": [
    {
     "data": {
      "text/plain": [
       "Unnamed: 0              0\n",
       "id_realEstates          0\n",
       "isNew                   0\n",
       "realEstate_name        10\n",
       "phone_realEstate      794\n",
       "url_inmueble            0\n",
       "rooms                 353\n",
       "bathrooms             345\n",
       "surface              1250\n",
       "price                   0\n",
       "date                    0\n",
       "description           142\n",
       "address                 0\n",
       "country                 0\n",
       "level1                  0\n",
       "level2                  0\n",
       "level3                  0\n",
       "level4               6643\n",
       "level5                  0\n",
       "level6              14627\n",
       "level7               2277\n",
       "level8               8579\n",
       "upperLevel              0\n",
       "countryId               0\n",
       "level1Id                0\n",
       "level2Id                0\n",
       "level3Id                0\n",
       "level4Id                0\n",
       "level5Id                0\n",
       "level6Id                0\n",
       "level7Id                0\n",
       "level8Id                0\n",
       "accuracy                0\n",
       "latitude                0\n",
       "longitude               0\n",
       "zipCode             15335\n",
       "customZone          15335\n",
       "dtype: int64"
      ]
     },
     "execution_count": 119,
     "metadata": {},
     "output_type": "execute_result"
    }
   ],
   "source": [
    "ds = ds.isnull().sum()\n",
    "ds"
   ]
  },
  {
   "cell_type": "code",
   "execution_count": 125,
   "id": "f99037da",
   "metadata": {},
   "outputs": [
    {
     "data": {
      "text/plain": [
       "Unnamed: 0              0\n",
       "id_realEstates          0\n",
       "isNew                   0\n",
       "realEstate_name        10\n",
       "phone_realEstate      794\n",
       "url_inmueble            0\n",
       "rooms                 353\n",
       "bathrooms             345\n",
       "surface              1250\n",
       "price                   0\n",
       "date                    0\n",
       "description           142\n",
       "address                 0\n",
       "country                 0\n",
       "level1                  0\n",
       "level2                  0\n",
       "level3                  0\n",
       "level4               6643\n",
       "level5                  0\n",
       "level6              14627\n",
       "level7               2277\n",
       "level8               8579\n",
       "upperLevel              0\n",
       "countryId               0\n",
       "accuracy                0\n",
       "latitude                0\n",
       "longitude               0\n",
       "dtype: int64"
      ]
     },
     "execution_count": 125,
     "metadata": {},
     "output_type": "execute_result"
    }
   ],
   "source": [
    "ds= ds.drop([ 'level1Id', 'level2Id', 'level3Id','level4Id', 'level5Id', 'level6Id', 'level7Id', 'level8Id','zipCode', 'customZone'], errors = 'ignore')\n",
    "ds"
   ]
  },
  {
   "attachments": {},
   "cell_type": "markdown",
   "id": "latin-guest",
   "metadata": {},
   "source": [
    "#### Exercise 01. Which is the most expensive house in the dataset? (★☆☆)\n",
    "\n",
    "Print the address and the price of the selected house. For example:\n",
    "\n",
    "`The house with address General Street Nº5 is the most expensive and its price is 5000000 USD`"
   ]
  },
  {
   "cell_type": "code",
   "execution_count": 121,
   "id": "developing-optimum",
   "metadata": {},
   "outputs": [
    {
     "ename": "AttributeError",
     "evalue": "'numpy.int64' object has no attribute 'idxmax'",
     "output_type": "error",
     "traceback": [
      "\u001b[0;31m---------------------------------------------------------------------------\u001b[0m",
      "\u001b[0;31mAttributeError\u001b[0m                            Traceback (most recent call last)",
      "Cell \u001b[0;32mIn[121], line 2\u001b[0m\n\u001b[1;32m      1\u001b[0m exp \u001b[38;5;241m=\u001b[39m ds[\u001b[38;5;124m\"\u001b[39m\u001b[38;5;124mprice\u001b[39m\u001b[38;5;124m\"\u001b[39m]\u001b[38;5;241m.\u001b[39mmax()\n\u001b[0;32m----> 2\u001b[0m exp_index \u001b[38;5;241m=\u001b[39m \u001b[43mds\u001b[49m\u001b[43m[\u001b[49m\u001b[38;5;124;43m'\u001b[39;49m\u001b[38;5;124;43mprice\u001b[39;49m\u001b[38;5;124;43m'\u001b[39;49m\u001b[43m]\u001b[49m\u001b[38;5;241;43m.\u001b[39;49m\u001b[43midxmax\u001b[49m()\n\u001b[1;32m      3\u001b[0m column_number \u001b[38;5;241m=\u001b[39m ds\u001b[38;5;241m.\u001b[39mcolumns\u001b[38;5;241m.\u001b[39mget_loc(\u001b[38;5;124m'\u001b[39m\u001b[38;5;124maddress\u001b[39m\u001b[38;5;124m'\u001b[39m)\n\u001b[1;32m      5\u001b[0m \u001b[38;5;28mprint\u001b[39m(\u001b[38;5;124mf\u001b[39m\u001b[38;5;124m\"\u001b[39m\u001b[38;5;124mThe house located at \u001b[39m\u001b[38;5;132;01m{\u001b[39;00mds\u001b[38;5;241m.\u001b[39miloc[exp_index,\u001b[38;5;250m \u001b[39mcolumn_number]\u001b[38;5;132;01m}\u001b[39;00m\u001b[38;5;124m is the most expensive and it\u001b[39m\u001b[38;5;124m'\u001b[39m\u001b[38;5;124ms price is \u001b[39m\u001b[38;5;132;01m{\u001b[39;00mexp\u001b[38;5;132;01m}\u001b[39;00m\u001b[38;5;124m USD\u001b[39m\u001b[38;5;124m\"\u001b[39m)\n",
      "\u001b[0;31mAttributeError\u001b[0m: 'numpy.int64' object has no attribute 'idxmax'"
     ]
    }
   ],
   "source": [
    "\n",
    "exp = ds[\"price\"].max()\n",
    "exp_index = ds['price'].idxmax()\n",
    "column_number = ds.columns.get_loc('address')\n",
    "\n",
    "print(f\"The house located at {ds.iloc[exp_index, column_number]} is the most expensive and it's price is {exp} USD\")"
   ]
  },
  {
   "attachments": {},
   "cell_type": "markdown",
   "id": "lesser-cosmetic",
   "metadata": {},
   "source": [
    "#### Exercise 02. Which is the cheapest house in the dataset? (★☆☆)\n",
    "\n",
    "Print the address and the price of the selected house. For example:\n",
    "\n",
    "`The house with address Concrete Street Nº1 is the cheapest and its price is 12000 USD`"
   ]
  },
  {
   "cell_type": "code",
   "execution_count": 122,
   "id": "lovely-oasis",
   "metadata": {},
   "outputs": [
    {
     "ename": "KeyError",
     "evalue": "np.False_",
     "output_type": "error",
     "traceback": [
      "\u001b[0;31m---------------------------------------------------------------------------\u001b[0m",
      "\u001b[0;31mKeyError\u001b[0m                                  Traceback (most recent call last)",
      "File \u001b[0;32m~/.local/lib/python3.11/site-packages/pandas/core/indexes/base.py:3805\u001b[0m, in \u001b[0;36mIndex.get_loc\u001b[0;34m(self, key)\u001b[0m\n\u001b[1;32m   3804\u001b[0m \u001b[38;5;28;01mtry\u001b[39;00m:\n\u001b[0;32m-> 3805\u001b[0m     \u001b[38;5;28;01mreturn\u001b[39;00m \u001b[38;5;28;43mself\u001b[39;49m\u001b[38;5;241;43m.\u001b[39;49m\u001b[43m_engine\u001b[49m\u001b[38;5;241;43m.\u001b[39;49m\u001b[43mget_loc\u001b[49m\u001b[43m(\u001b[49m\u001b[43mcasted_key\u001b[49m\u001b[43m)\u001b[49m\n\u001b[1;32m   3806\u001b[0m \u001b[38;5;28;01mexcept\u001b[39;00m \u001b[38;5;167;01mKeyError\u001b[39;00m \u001b[38;5;28;01mas\u001b[39;00m err:\n",
      "File \u001b[0;32mindex.pyx:167\u001b[0m, in \u001b[0;36mpandas._libs.index.IndexEngine.get_loc\u001b[0;34m()\u001b[0m\n",
      "File \u001b[0;32mindex.pyx:196\u001b[0m, in \u001b[0;36mpandas._libs.index.IndexEngine.get_loc\u001b[0;34m()\u001b[0m\n",
      "File \u001b[0;32mpandas/_libs/hashtable_class_helper.pxi:7081\u001b[0m, in \u001b[0;36mpandas._libs.hashtable.PyObjectHashTable.get_item\u001b[0;34m()\u001b[0m\n",
      "File \u001b[0;32mpandas/_libs/hashtable_class_helper.pxi:7089\u001b[0m, in \u001b[0;36mpandas._libs.hashtable.PyObjectHashTable.get_item\u001b[0;34m()\u001b[0m\n",
      "\u001b[0;31mKeyError\u001b[0m: np.False_",
      "\nThe above exception was the direct cause of the following exception:\n",
      "\u001b[0;31mKeyError\u001b[0m                                  Traceback (most recent call last)",
      "Cell \u001b[0;32mIn[122], line 1\u001b[0m\n\u001b[0;32m----> 1\u001b[0m cheapest \u001b[38;5;241m=\u001b[39m \u001b[43mds\u001b[49m\u001b[43m[\u001b[49m\u001b[43mds\u001b[49m\u001b[43m[\u001b[49m\u001b[38;5;124;43m\"\u001b[39;49m\u001b[38;5;124;43mprice\u001b[39;49m\u001b[38;5;124;43m\"\u001b[39;49m\u001b[43m]\u001b[49m\u001b[43m \u001b[49m\u001b[38;5;241;43m!=\u001b[39;49m\u001b[43m \u001b[49m\u001b[38;5;241;43m0\u001b[39;49m\u001b[43m]\u001b[49m[\u001b[38;5;124m\"\u001b[39m\u001b[38;5;124mprice\u001b[39m\u001b[38;5;124m\"\u001b[39m]\u001b[38;5;241m.\u001b[39mmin()\n\u001b[1;32m      2\u001b[0m indices \u001b[38;5;241m=\u001b[39m ds\u001b[38;5;241m.\u001b[39mindex[ds[\u001b[38;5;124m\"\u001b[39m\u001b[38;5;124mprice\u001b[39m\u001b[38;5;124m\"\u001b[39m] \u001b[38;5;241m==\u001b[39m cheapest]\n\u001b[1;32m      3\u001b[0m addre \u001b[38;5;241m=\u001b[39m ds\u001b[38;5;241m.\u001b[39mloc[indices[\u001b[38;5;241m0\u001b[39m], \u001b[38;5;124m\"\u001b[39m\u001b[38;5;124maddress\u001b[39m\u001b[38;5;124m\"\u001b[39m]\n",
      "File \u001b[0;32m~/.local/lib/python3.11/site-packages/pandas/core/series.py:1121\u001b[0m, in \u001b[0;36mSeries.__getitem__\u001b[0;34m(self, key)\u001b[0m\n\u001b[1;32m   1118\u001b[0m     \u001b[38;5;28;01mreturn\u001b[39;00m \u001b[38;5;28mself\u001b[39m\u001b[38;5;241m.\u001b[39m_values[key]\n\u001b[1;32m   1120\u001b[0m \u001b[38;5;28;01melif\u001b[39;00m key_is_scalar:\n\u001b[0;32m-> 1121\u001b[0m     \u001b[38;5;28;01mreturn\u001b[39;00m \u001b[38;5;28;43mself\u001b[39;49m\u001b[38;5;241;43m.\u001b[39;49m\u001b[43m_get_value\u001b[49m\u001b[43m(\u001b[49m\u001b[43mkey\u001b[49m\u001b[43m)\u001b[49m\n\u001b[1;32m   1123\u001b[0m \u001b[38;5;66;03m# Convert generator to list before going through hashable part\u001b[39;00m\n\u001b[1;32m   1124\u001b[0m \u001b[38;5;66;03m# (We will iterate through the generator there to check for slices)\u001b[39;00m\n\u001b[1;32m   1125\u001b[0m \u001b[38;5;28;01mif\u001b[39;00m is_iterator(key):\n",
      "File \u001b[0;32m~/.local/lib/python3.11/site-packages/pandas/core/series.py:1237\u001b[0m, in \u001b[0;36mSeries._get_value\u001b[0;34m(self, label, takeable)\u001b[0m\n\u001b[1;32m   1234\u001b[0m     \u001b[38;5;28;01mreturn\u001b[39;00m \u001b[38;5;28mself\u001b[39m\u001b[38;5;241m.\u001b[39m_values[label]\n\u001b[1;32m   1236\u001b[0m \u001b[38;5;66;03m# Similar to Index.get_value, but we do not fall back to positional\u001b[39;00m\n\u001b[0;32m-> 1237\u001b[0m loc \u001b[38;5;241m=\u001b[39m \u001b[38;5;28;43mself\u001b[39;49m\u001b[38;5;241;43m.\u001b[39;49m\u001b[43mindex\u001b[49m\u001b[38;5;241;43m.\u001b[39;49m\u001b[43mget_loc\u001b[49m\u001b[43m(\u001b[49m\u001b[43mlabel\u001b[49m\u001b[43m)\u001b[49m\n\u001b[1;32m   1239\u001b[0m \u001b[38;5;28;01mif\u001b[39;00m is_integer(loc):\n\u001b[1;32m   1240\u001b[0m     \u001b[38;5;28;01mreturn\u001b[39;00m \u001b[38;5;28mself\u001b[39m\u001b[38;5;241m.\u001b[39m_values[loc]\n",
      "File \u001b[0;32m~/.local/lib/python3.11/site-packages/pandas/core/indexes/base.py:3812\u001b[0m, in \u001b[0;36mIndex.get_loc\u001b[0;34m(self, key)\u001b[0m\n\u001b[1;32m   3807\u001b[0m     \u001b[38;5;28;01mif\u001b[39;00m \u001b[38;5;28misinstance\u001b[39m(casted_key, \u001b[38;5;28mslice\u001b[39m) \u001b[38;5;129;01mor\u001b[39;00m (\n\u001b[1;32m   3808\u001b[0m         \u001b[38;5;28misinstance\u001b[39m(casted_key, abc\u001b[38;5;241m.\u001b[39mIterable)\n\u001b[1;32m   3809\u001b[0m         \u001b[38;5;129;01mand\u001b[39;00m \u001b[38;5;28many\u001b[39m(\u001b[38;5;28misinstance\u001b[39m(x, \u001b[38;5;28mslice\u001b[39m) \u001b[38;5;28;01mfor\u001b[39;00m x \u001b[38;5;129;01min\u001b[39;00m casted_key)\n\u001b[1;32m   3810\u001b[0m     ):\n\u001b[1;32m   3811\u001b[0m         \u001b[38;5;28;01mraise\u001b[39;00m InvalidIndexError(key)\n\u001b[0;32m-> 3812\u001b[0m     \u001b[38;5;28;01mraise\u001b[39;00m \u001b[38;5;167;01mKeyError\u001b[39;00m(key) \u001b[38;5;28;01mfrom\u001b[39;00m\u001b[38;5;250m \u001b[39m\u001b[38;5;21;01merr\u001b[39;00m\n\u001b[1;32m   3813\u001b[0m \u001b[38;5;28;01mexcept\u001b[39;00m \u001b[38;5;167;01mTypeError\u001b[39;00m:\n\u001b[1;32m   3814\u001b[0m     \u001b[38;5;66;03m# If we have a listlike key, _check_indexing_error will raise\u001b[39;00m\n\u001b[1;32m   3815\u001b[0m     \u001b[38;5;66;03m#  InvalidIndexError. Otherwise we fall through and re-raise\u001b[39;00m\n\u001b[1;32m   3816\u001b[0m     \u001b[38;5;66;03m#  the TypeError.\u001b[39;00m\n\u001b[1;32m   3817\u001b[0m     \u001b[38;5;28mself\u001b[39m\u001b[38;5;241m.\u001b[39m_check_indexing_error(key)\n",
      "\u001b[0;31mKeyError\u001b[0m: np.False_"
     ]
    }
   ],
   "source": [
    "\n",
    "cheapest = ds[ds[\"price\"] != 0][\"price\"].min()\n",
    "indices = ds.index[ds[\"price\"] == cheapest]\n",
    "addre = ds.loc[indices[0], \"address\"]\n",
    "\n",
    "print(f\"The house with address {addre} is the cheapest and its price is {cheapest} USD\")\n"
   ]
  },
  {
   "attachments": {},
   "cell_type": "markdown",
   "id": "compliant-fellowship",
   "metadata": {},
   "source": [
    "#### Exercise 03. Which is the biggest and the smallest house in the dataset? (★☆☆)\n",
    "\n",
    "Print both the address and the surface of the selected houses. For example:\n",
    "\n",
    "`The biggest house is located on Yukka Street Nº10 and its surface is 5000 meters`\n",
    "\n",
    "`The smallest house is located on County Road 1 N and its surface is 200 meters`"
   ]
  },
  {
   "cell_type": "code",
   "execution_count": 123,
   "id": "every-tiffany",
   "metadata": {},
   "outputs": [],
   "source": [
    "\n",
    "#indices = ds.index[ds[\"surface\"] == 249000].tolist()\n",
    "#print(indices)"
   ]
  },
  {
   "attachments": {},
   "cell_type": "markdown",
   "id": "danish-spirit",
   "metadata": {},
   "source": [
    "#### Exercise 04. How many populations (level5 column) the dataset contains? (★☆☆)\n"
   ]
  },
  {
   "cell_type": "markdown",
   "id": "17fcfdfe",
   "metadata": {},
   "source": [
    "\n",
    "Print the names of the populations with a comma as a separator. For example:\n",
    "\n",
    "`> print(populations)`\n",
    "\n",
    "`population1, population2, population3, ...`"
   ]
  },
  {
   "cell_type": "code",
   "execution_count": 124,
   "id": "exciting-accreditation",
   "metadata": {},
   "outputs": [
    {
     "ename": "AttributeError",
     "evalue": "'numpy.int64' object has no attribute 'isna'",
     "output_type": "error",
     "traceback": [
      "\u001b[0;31m---------------------------------------------------------------------------\u001b[0m",
      "\u001b[0;31mAttributeError\u001b[0m                            Traceback (most recent call last)",
      "Cell \u001b[0;32mIn[124], line 1\u001b[0m\n\u001b[0;32m----> 1\u001b[0m nan \u001b[38;5;241m=\u001b[39m \u001b[43mds\u001b[49m\u001b[43m[\u001b[49m\u001b[38;5;124;43m\"\u001b[39;49m\u001b[38;5;124;43mlevel5\u001b[39;49m\u001b[38;5;124;43m\"\u001b[39;49m\u001b[43m]\u001b[49m\u001b[38;5;241;43m.\u001b[39;49m\u001b[43misna\u001b[49m()\u001b[38;5;241m.\u001b[39many()\n\u001b[1;32m      3\u001b[0m zero \u001b[38;5;241m=\u001b[39m (ds[\u001b[38;5;124m\"\u001b[39m\u001b[38;5;124mlevel5\u001b[39m\u001b[38;5;124m\"\u001b[39m] \u001b[38;5;241m==\u001b[39m \u001b[38;5;241m0\u001b[39m)\u001b[38;5;241m.\u001b[39many()\n\u001b[1;32m      4\u001b[0m \u001b[38;5;66;03m#there are no NAN or \"0\"\u001b[39;00m\n",
      "\u001b[0;31mAttributeError\u001b[0m: 'numpy.int64' object has no attribute 'isna'"
     ]
    }
   ],
   "source": [
    "\n",
    "nan = ds[\"level5\"].isna().any()\n",
    "\n",
    "zero = (ds[\"level5\"] == 0).any()\n",
    "#there are no NAN or \"0\"\n",
    "list_pop = len(ds[\"level5\"]) \n",
    "\n",
    "print(f' There are {list_pop} populations in this dataset: {list(ds[\"level5\"])}' )\n"
   ]
  },
  {
   "attachments": {},
   "cell_type": "markdown",
   "id": "crazy-blame",
   "metadata": {},
   "source": [
    "#### Exercise 05. Does the dataset contain NAs? (★☆☆)\n",
    "\n",
    "Print a boolean value (`True` or `False`) followed by the rows/cols that contains NAs."
   ]
  },
  {
   "cell_type": "code",
   "execution_count": null,
   "id": "transparent-poetry",
   "metadata": {},
   "outputs": [
    {
     "name": "stdout",
     "output_type": "stream",
     "text": [
      "False\n"
     ]
    }
   ],
   "source": [
    "nas = ds.isna().any()\n",
    "#checking the columns for NAs\n",
    "print(nas)\n"
   ]
  },
  {
   "cell_type": "code",
   "execution_count": null,
   "id": "a510c3d7",
   "metadata": {},
   "outputs": [
    {
     "ename": "ValueError",
     "evalue": "No axis named 1 for object type Series",
     "output_type": "error",
     "traceback": [
      "\u001b[0;31m---------------------------------------------------------------------------\u001b[0m",
      "\u001b[0;31mKeyError\u001b[0m                                  Traceback (most recent call last)",
      "\u001b[0;32m~/.local/lib/python3.11/site-packages/pandas/core/generic.py\u001b[0m in \u001b[0;36m?\u001b[0;34m(cls, axis)\u001b[0m\n\u001b[1;32m    576\u001b[0m             \u001b[0;32mreturn\u001b[0m \u001b[0mcls\u001b[0m\u001b[0;34m.\u001b[0m\u001b[0m_AXIS_TO_AXIS_NUMBER\u001b[0m\u001b[0;34m[\u001b[0m\u001b[0maxis\u001b[0m\u001b[0;34m]\u001b[0m\u001b[0;34m\u001b[0m\u001b[0;34m\u001b[0m\u001b[0m\n\u001b[1;32m    577\u001b[0m         \u001b[0;32mexcept\u001b[0m \u001b[0mKeyError\u001b[0m\u001b[0;34m:\u001b[0m\u001b[0;34m\u001b[0m\u001b[0;34m\u001b[0m\u001b[0m\n\u001b[0;32m--> 578\u001b[0;31m             \u001b[0;32mraise\u001b[0m \u001b[0mValueError\u001b[0m\u001b[0;34m(\u001b[0m\u001b[0;34mf\"No axis named {axis} for object type {cls.__name__}\"\u001b[0m\u001b[0;34m)\u001b[0m\u001b[0;34m\u001b[0m\u001b[0;34m\u001b[0m\u001b[0m\n\u001b[0m",
      "\u001b[0;31mKeyError\u001b[0m: 1",
      "\nDuring handling of the above exception, another exception occurred:\n",
      "\u001b[0;31mValueError\u001b[0m                                Traceback (most recent call last)",
      "\u001b[0;32m/tmp/ipykernel_2436/3394109361.py\u001b[0m in \u001b[0;36m?\u001b[0;34m()\u001b[0m\n\u001b[0;32m----> 1\u001b[0;31m \u001b[0mnas_index\u001b[0m \u001b[0;34m=\u001b[0m \u001b[0mds\u001b[0m\u001b[0;34m.\u001b[0m\u001b[0misna\u001b[0m\u001b[0;34m(\u001b[0m\u001b[0;34m)\u001b[0m\u001b[0;34m.\u001b[0m\u001b[0many\u001b[0m\u001b[0;34m(\u001b[0m\u001b[0maxis\u001b[0m\u001b[0;34m=\u001b[0m\u001b[0;36m1\u001b[0m\u001b[0;34m)\u001b[0m\u001b[0;34m\u001b[0m\u001b[0;34m\u001b[0m\u001b[0m\n\u001b[0m\u001b[1;32m      2\u001b[0m \u001b[0;31m#checking the indexes for NAs\u001b[0m\u001b[0;34m\u001b[0m\u001b[0;34m\u001b[0m\u001b[0m\n\u001b[1;32m      3\u001b[0m \u001b[0mprint\u001b[0m\u001b[0;34m(\u001b[0m\u001b[0mnas_index\u001b[0m\u001b[0;34m)\u001b[0m\u001b[0;34m\u001b[0m\u001b[0;34m\u001b[0m\u001b[0m\n",
      "\u001b[0;32m~/.local/lib/python3.11/site-packages/pandas/core/series.py\u001b[0m in \u001b[0;36m?\u001b[0;34m(self, axis, bool_only, skipna, **kwargs)\u001b[0m\n\u001b[1;32m   6467\u001b[0m         \u001b[0;34m**\u001b[0m\u001b[0mkwargs\u001b[0m\u001b[0;34m,\u001b[0m\u001b[0;34m\u001b[0m\u001b[0;34m\u001b[0m\u001b[0m\n\u001b[1;32m   6468\u001b[0m     ) -> bool:\n\u001b[1;32m   6469\u001b[0m         \u001b[0mnv\u001b[0m\u001b[0;34m.\u001b[0m\u001b[0mvalidate_logical_func\u001b[0m\u001b[0;34m(\u001b[0m\u001b[0;34m(\u001b[0m\u001b[0;34m)\u001b[0m\u001b[0;34m,\u001b[0m \u001b[0mkwargs\u001b[0m\u001b[0;34m,\u001b[0m \u001b[0mfname\u001b[0m\u001b[0;34m=\u001b[0m\u001b[0;34m\"any\"\u001b[0m\u001b[0;34m)\u001b[0m\u001b[0;34m\u001b[0m\u001b[0;34m\u001b[0m\u001b[0m\n\u001b[1;32m   6470\u001b[0m         \u001b[0mvalidate_bool_kwarg\u001b[0m\u001b[0;34m(\u001b[0m\u001b[0mskipna\u001b[0m\u001b[0;34m,\u001b[0m \u001b[0;34m\"skipna\"\u001b[0m\u001b[0;34m,\u001b[0m \u001b[0mnone_allowed\u001b[0m\u001b[0;34m=\u001b[0m\u001b[0;32mFalse\u001b[0m\u001b[0;34m)\u001b[0m\u001b[0;34m\u001b[0m\u001b[0;34m\u001b[0m\u001b[0m\n\u001b[0;32m-> 6471\u001b[0;31m         return self._reduce(\n\u001b[0m\u001b[1;32m   6472\u001b[0m             \u001b[0mnanops\u001b[0m\u001b[0;34m.\u001b[0m\u001b[0mnanany\u001b[0m\u001b[0;34m,\u001b[0m\u001b[0;34m\u001b[0m\u001b[0;34m\u001b[0m\u001b[0m\n\u001b[1;32m   6473\u001b[0m             \u001b[0mname\u001b[0m\u001b[0;34m=\u001b[0m\u001b[0;34m\"any\"\u001b[0m\u001b[0;34m,\u001b[0m\u001b[0;34m\u001b[0m\u001b[0;34m\u001b[0m\u001b[0m\n\u001b[1;32m   6474\u001b[0m             \u001b[0maxis\u001b[0m\u001b[0;34m=\u001b[0m\u001b[0maxis\u001b[0m\u001b[0;34m,\u001b[0m\u001b[0;34m\u001b[0m\u001b[0;34m\u001b[0m\u001b[0m\n",
      "\u001b[0;32m~/.local/lib/python3.11/site-packages/pandas/core/series.py\u001b[0m in \u001b[0;36m?\u001b[0;34m(self, op, name, axis, skipna, numeric_only, filter_type, **kwds)\u001b[0m\n\u001b[1;32m   6435\u001b[0m         \"\"\"\n\u001b[1;32m   6436\u001b[0m         \u001b[0mdelegate\u001b[0m \u001b[0;34m=\u001b[0m \u001b[0mself\u001b[0m\u001b[0;34m.\u001b[0m\u001b[0m_values\u001b[0m\u001b[0;34m\u001b[0m\u001b[0;34m\u001b[0m\u001b[0m\n\u001b[1;32m   6437\u001b[0m \u001b[0;34m\u001b[0m\u001b[0m\n\u001b[1;32m   6438\u001b[0m         \u001b[0;32mif\u001b[0m \u001b[0maxis\u001b[0m \u001b[0;32mis\u001b[0m \u001b[0;32mnot\u001b[0m \u001b[0;32mNone\u001b[0m\u001b[0;34m:\u001b[0m\u001b[0;34m\u001b[0m\u001b[0;34m\u001b[0m\u001b[0m\n\u001b[0;32m-> 6439\u001b[0;31m             \u001b[0mself\u001b[0m\u001b[0;34m.\u001b[0m\u001b[0m_get_axis_number\u001b[0m\u001b[0;34m(\u001b[0m\u001b[0maxis\u001b[0m\u001b[0;34m)\u001b[0m\u001b[0;34m\u001b[0m\u001b[0;34m\u001b[0m\u001b[0m\n\u001b[0m\u001b[1;32m   6440\u001b[0m \u001b[0;34m\u001b[0m\u001b[0m\n\u001b[1;32m   6441\u001b[0m         \u001b[0;32mif\u001b[0m \u001b[0misinstance\u001b[0m\u001b[0;34m(\u001b[0m\u001b[0mdelegate\u001b[0m\u001b[0;34m,\u001b[0m \u001b[0mExtensionArray\u001b[0m\u001b[0;34m)\u001b[0m\u001b[0;34m:\u001b[0m\u001b[0;34m\u001b[0m\u001b[0;34m\u001b[0m\u001b[0m\n\u001b[1;32m   6442\u001b[0m             \u001b[0;31m# dispatch to ExtensionArray interface\u001b[0m\u001b[0;34m\u001b[0m\u001b[0;34m\u001b[0m\u001b[0m\n",
      "\u001b[0;32m~/.local/lib/python3.11/site-packages/pandas/core/generic.py\u001b[0m in \u001b[0;36m?\u001b[0;34m(cls, axis)\u001b[0m\n\u001b[1;32m    574\u001b[0m     \u001b[0;32mdef\u001b[0m \u001b[0m_get_axis_number\u001b[0m\u001b[0;34m(\u001b[0m\u001b[0mcls\u001b[0m\u001b[0;34m,\u001b[0m \u001b[0maxis\u001b[0m\u001b[0;34m:\u001b[0m \u001b[0mAxis\u001b[0m\u001b[0;34m)\u001b[0m \u001b[0;34m->\u001b[0m \u001b[0mAxisInt\u001b[0m\u001b[0;34m:\u001b[0m\u001b[0;34m\u001b[0m\u001b[0;34m\u001b[0m\u001b[0m\n\u001b[1;32m    575\u001b[0m         \u001b[0;32mtry\u001b[0m\u001b[0;34m:\u001b[0m\u001b[0;34m\u001b[0m\u001b[0;34m\u001b[0m\u001b[0m\n\u001b[1;32m    576\u001b[0m             \u001b[0;32mreturn\u001b[0m \u001b[0mcls\u001b[0m\u001b[0;34m.\u001b[0m\u001b[0m_AXIS_TO_AXIS_NUMBER\u001b[0m\u001b[0;34m[\u001b[0m\u001b[0maxis\u001b[0m\u001b[0;34m]\u001b[0m\u001b[0;34m\u001b[0m\u001b[0;34m\u001b[0m\u001b[0m\n\u001b[1;32m    577\u001b[0m         \u001b[0;32mexcept\u001b[0m \u001b[0mKeyError\u001b[0m\u001b[0;34m:\u001b[0m\u001b[0;34m\u001b[0m\u001b[0;34m\u001b[0m\u001b[0m\n\u001b[0;32m--> 578\u001b[0;31m             \u001b[0;32mraise\u001b[0m \u001b[0mValueError\u001b[0m\u001b[0;34m(\u001b[0m\u001b[0;34mf\"No axis named {axis} for object type {cls.__name__}\"\u001b[0m\u001b[0;34m)\u001b[0m\u001b[0;34m\u001b[0m\u001b[0;34m\u001b[0m\u001b[0m\n\u001b[0m",
      "\u001b[0;31mValueError\u001b[0m: No axis named 1 for object type Series"
     ]
    }
   ],
   "source": [
    "nas_index = ds.isna().any(axis=1)\n",
    "#checking the indexes for NAs\n",
    "print(nas_index)\n"
   ]
  },
  {
   "attachments": {},
   "cell_type": "markdown",
   "id": "italic-hydrogen",
   "metadata": {},
   "source": [
    "#### Exercise 06. Delete the NAs of the dataset, if applicable (★★☆)\n",
    "\n",
    "Print a comparison between the dimensions of the original DataFrame versus the DataFrame after the deletions."
   ]
  },
  {
   "cell_type": "code",
   "execution_count": null,
   "id": "administrative-roads",
   "metadata": {},
   "outputs": [
    {
     "name": "stdout",
     "output_type": "stream",
     "text": [
      "(27,)\n"
     ]
    }
   ],
   "source": [
    "print(ds.shape)\n",
    "#original = ds.shape\n",
    "#print(\"Original Dataframe : \")\n",
    "#print(original)\n",
    "#print()\n",
    "#after = ds.dropna()\n",
    "#cleaned = after.shape\n",
    "#print(\"After Dataframe\")\n",
    "#\n",
    "#print(cleaned)\n"
   ]
  },
  {
   "cell_type": "markdown",
   "id": "c0b85d90",
   "metadata": {},
   "source": []
  },
  {
   "cell_type": "markdown",
   "id": "06ece2f6",
   "metadata": {},
   "source": []
  },
  {
   "attachments": {},
   "cell_type": "markdown",
   "id": "middle-china",
   "metadata": {},
   "source": [
    "#### Exercise 07. Which is the mean of prices in the population (level5 column) of \"Arroyomolinos (Madrid)\"? (★★☆)\n",
    "\n",
    "Print the obtained value."
   ]
  },
  {
   "cell_type": "code",
   "execution_count": null,
   "id": "nuclear-belief",
   "metadata": {},
   "outputs": [
    {
     "name": "stdout",
     "output_type": "stream",
     "text": [
      "289000.0\n"
     ]
    }
   ],
   "source": [
    "import pandas as pd\n",
    "ds = pd.read_csv('assets/real_estate.csv', sep=';')\n",
    "value = ds[ds['level5'] == 'Arroyomolinos (Madrid)']\n",
    "medium_price = value[\"price\"].median()\n",
    "print(medium_price)"
   ]
  },
  {
   "attachments": {},
   "cell_type": "markdown",
   "id": "concerned-radical",
   "metadata": {},
   "source": [
    "#### Exercise 08. Plot the histogram of prices for the population (level5 column) of \"Arroyomolinos (Madrid)\" and explain what you observe (★★☆)\n",
    "\n",
    "Print the histogram of the prices and write in the Markdown cell a brief analysis about the plot."
   ]
  },
  {
   "cell_type": "code",
   "execution_count": null,
   "id": "sudden-message",
   "metadata": {},
   "outputs": [
    {
     "data": {
      "image/png": "[encoded data removed]",
      "text/plain": [
       "<Figure size 1000x500 with 1 Axes>"
      ]
     },
     "metadata": {},
     "output_type": "display_data"
    }
   ],
   "source": [
    "import pandas as pd\n",
    "import numpy as np\n",
    "import matplotlib.pyplot as plt\n",
    "ds = pd.read_csv('assets/real_estate.csv', sep=';')\n",
    "value = ds[ds['level5'] == 'Arroyomolinos (Madrid)']\n",
    "hist_value = value[\"price\"]\n",
    "\n",
    "\n",
    "\n",
    "data = hist_value\n",
    "\n",
    "plt.figure(figsize = (10, 5))\n",
    "\n",
    "plt.hist(data, bins = 30, alpha = 0.7)\n",
    "\n",
    "plt.title(\"Price for the population of Arroyomolinos\")\n",
    "plt.show()"
   ]
  },
  {
   "attachments": {},
   "cell_type": "markdown",
   "id": "impressed-combination",
   "metadata": {},
   "source": [
    "We can see that the majority of the prices are between 170000 to 400000. It shows that there are good oportunity of prices for most of people."
   ]
  },
  {
   "attachments": {},
   "cell_type": "markdown",
   "id": "actual-edinburgh",
   "metadata": {},
   "source": [
    "#### Exercise 09. Are the average prices of \"Valdemorillo\" and \"Galapagar\" the same? (★★☆)\n",
    "\n",
    "Print both average prices and then write a conclusion about them."
   ]
  },
  {
   "cell_type": "code",
   "execution_count": null,
   "id": "numeric-commerce",
   "metadata": {},
   "outputs": [
    {
     "name": "stdout",
     "output_type": "stream",
     "text": [
      " The average price in Valdermorillo is 324500.0 USD\n",
      " The average price of Galapagar is 350000.0 USD \n",
      " The average price in Galapagar is higher\n"
     ]
    }
   ],
   "source": [
    "import pandas as pd\n",
    "ds = pd.read_csv('assets/real_estate.csv', sep=';')\n",
    "city = ds[ds[\"level5\"] == \"Valdemorillo\"]\n",
    "aver = city[\"price\"].median()\n",
    "print(f\" The average price in Valdermorillo is {aver} USD\")\n",
    "\n",
    "city1 = ds[ds[\"level5\"] == \"Galapagar\"]\n",
    "aver1 = city1[\"price\"].median()\n",
    "print(f\" The average price of Galapagar is {aver1} USD \")\n",
    "#conclusion\n",
    "print(\" The average price in Galapagar is higher\")"
   ]
  },
  {
   "attachments": {},
   "cell_type": "markdown",
   "id": "lonely-article",
   "metadata": {},
   "source": [
    "#### Exercise 10. Are the average prices per square meter (price/m2) of \"Valdemorillo\" and \"Galapagar\" the same? (★★☆)\n",
    "\n",
    "Print both average prices and then write a conclusion about it.\n",
    "\n",
    "Hint: Create a new column called `pps` (price per square meter) and then analyze the values."
   ]
  },
  {
   "cell_type": "code",
   "execution_count": null,
   "id": "hourly-globe",
   "metadata": {},
   "outputs": [
    {
     "name": "stdout",
     "output_type": "stream",
     "text": [
      " The average price per square meter in Valdermorillo is 1317.9502109024986 USD\n",
      " The average price per square meter in Galapagar is 1514.9253731343283 USD \n",
      " In conclusion, the average price per square meter in Galapagar is higher than in Valdermorillo\n"
     ]
    }
   ],
   "source": [
    "import pandas as pd\n",
    "ds = pd.read_csv('assets/real_estate.csv', sep=';')\n",
    "ds[\"pps\"] = ds[\"price\"] / ds[\"surface\"]\n",
    "\n",
    "\n",
    "city = ds[ds[\"level5\"] == \"Valdemorillo\"]\n",
    "aver = city[\"pps\"].mean()\n",
    "print(f\" The average price per square meter in Valdermorillo is {aver} USD\")\n",
    "\n",
    "city1 = ds[ds[\"level5\"] == \"Galapagar\"]\n",
    "aver1 = city1[\"pps\"].median()\n",
    "print(f\" The average price per square meter in Galapagar is {aver1} USD \")\n",
    "#Conclusion\n",
    "print(\" In conclusion, the average price per square meter in Galapagar is higher than in Valdermorillo\")\n"
   ]
  },
  {
   "attachments": {},
   "cell_type": "markdown",
   "id": "pleasant-invite",
   "metadata": {},
   "source": [
    "#### Exercise 11. Analyze the relation between the surface and the price of the houses (★★☆)\n",
    "\n",
    "Hint: You can make a `scatter plot`, then write a conclusion about it."
   ]
  },
  {
   "cell_type": "code",
   "execution_count": null,
   "id": "common-drilling",
   "metadata": {},
   "outputs": [
    {
     "data": {
      "image/png": "[encoded data removed]",
      "text/plain": [
       "<Figure size 5000x2000 with 1 Axes>"
      ]
     },
     "metadata": {},
     "output_type": "display_data"
    }
   ],
   "source": [
    "import matplotlib.pyplot as plt\n",
    "import numpy as np\n",
    "import pandas as pd\n",
    "\n",
    "ds = pd.read_csv('assets/real_estate.csv', sep=';')\n",
    "\n",
    "y = ds[\"surface\"]\n",
    "x = ds[\"price\"]\n",
    "\n",
    "plt.figure(figsize = (50, 20))\n",
    "\n",
    "plt.scatter(x, y)\n",
    "\n",
    "plt.title(\"Price vs Surface\")\n",
    "plt.xlabel(\"Surface\")  \n",
    "plt.ylabel(\"Price\") \n",
    "plt.show()"
   ]
  },
  {
   "attachments": {},
   "cell_type": "markdown",
   "id": "ahead-liquid",
   "metadata": {},
   "source": [
    "The majority of the houses are in equilibrium. You may find more expensive houses but smallers and bigger houses, cheaper."
   ]
  },
  {
   "attachments": {},
   "cell_type": "markdown",
   "id": "coordinate-sunrise",
   "metadata": {},
   "source": [
    "#### Exercise 12. How many real estate agencies does the dataset contain? (★★☆)\n",
    "\n",
    "Print the obtained value."
   ]
  },
  {
   "cell_type": "code",
   "execution_count": null,
   "id": "valid-honolulu",
   "metadata": {},
   "outputs": [
    {
     "name": "stdout",
     "output_type": "stream",
     "text": [
      "1821\n"
     ]
    }
   ],
   "source": [
    "import pandas as pd\n",
    "ds = pd.read_csv('assets/real_estate.csv', sep=';')\n",
    "uniq = ds[\"realEstate_name\"].nunique()\n",
    "\n",
    "print(uniq)"
   ]
  },
  {
   "attachments": {},
   "cell_type": "markdown",
   "id": "binding-ebony",
   "metadata": {},
   "source": [
    "#### Exercise 13. Which is the population (level5 column) that contains the most houses? (★★☆)\n",
    "\n",
    "Print both the population and the number of houses."
   ]
  },
  {
   "cell_type": "code",
   "execution_count": null,
   "id": "static-perry",
   "metadata": {},
   "outputs": [
    {
     "name": "stdout",
     "output_type": "stream",
     "text": [
      "\n",
      "Population:  Madrid Capital , numbers of houses: 6643 \n"
     ]
    }
   ],
   "source": [
    "import pandas as pd\n",
    "ds = pd.read_csv('assets/real_estate.csv', sep=';')\n",
    "most = ds[\"level5\"].value_counts()\n",
    "#print(most)\n",
    "houses = most.head(1)\n",
    "#print(houses)\n",
    "#print(most.head(1))\n",
    "\n",
    "print()\n",
    "print(f'Population: {houses.index[0]} , numbers of houses: {houses.values[0]} ')"
   ]
  },
  {
   "attachments": {},
   "cell_type": "markdown",
   "id": "entire-classification",
   "metadata": {},
   "source": [
    "#### Exercise 14. Now let's work with the \"south belt\" of Madrid. Make a subset of the original DataFrame that contains the following populations (level5 column): \"Fuenlabrada\", \"Leganés\", \"Getafe\", \"Alcorcón\" (★★☆)\n",
    "\n",
    "Hint: Filter the original DataFrame using the column `level5` and the function `isin`."
   ]
  },
  {
   "cell_type": "code",
   "execution_count": null,
   "id": "binary-input",
   "metadata": {},
   "outputs": [
    {
     "data": {
      "text/html": [
       "<div>\n",
       "<style scoped>\n",
       "    .dataframe tbody tr th:only-of-type {\n",
       "        vertical-align: middle;\n",
       "    }\n",
       "\n",
       "    .dataframe tbody tr th {\n",
       "        vertical-align: top;\n",
       "    }\n",
       "\n",
       "    .dataframe thead th {\n",
       "        text-align: right;\n",
       "    }\n",
       "</style>\n",
       "<table border=\"1\" class=\"dataframe\">\n",
       "  <thead>\n",
       "    <tr style=\"text-align: right;\">\n",
       "      <th></th>\n",
       "      <th>Unnamed: 0</th>\n",
       "      <th>id_realEstates</th>\n",
       "      <th>isNew</th>\n",
       "      <th>realEstate_name</th>\n",
       "      <th>phone_realEstate</th>\n",
       "      <th>url_inmueble</th>\n",
       "      <th>rooms</th>\n",
       "      <th>bathrooms</th>\n",
       "      <th>surface</th>\n",
       "      <th>price</th>\n",
       "      <th>...</th>\n",
       "      <th>level4Id</th>\n",
       "      <th>level5Id</th>\n",
       "      <th>level6Id</th>\n",
       "      <th>level7Id</th>\n",
       "      <th>level8Id</th>\n",
       "      <th>accuracy</th>\n",
       "      <th>latitude</th>\n",
       "      <th>longitude</th>\n",
       "      <th>zipCode</th>\n",
       "      <th>customZone</th>\n",
       "    </tr>\n",
       "  </thead>\n",
       "  <tbody>\n",
       "    <tr>\n",
       "      <th>1</th>\n",
       "      <td>2</td>\n",
       "      <td>153867863</td>\n",
       "      <td>False</td>\n",
       "      <td>tecnocasa fuenlabrada ferrocarril</td>\n",
       "      <td>916358736.0</td>\n",
       "      <td>https://www.fotocasa.es/es/comprar/vivienda/ma...</td>\n",
       "      <td>3.0</td>\n",
       "      <td>1.0</td>\n",
       "      <td>NaN</td>\n",
       "      <td>89000</td>\n",
       "      <td>...</td>\n",
       "      <td>0</td>\n",
       "      <td>0</td>\n",
       "      <td>0</td>\n",
       "      <td>0</td>\n",
       "      <td>0</td>\n",
       "      <td>1</td>\n",
       "      <td>40,28674</td>\n",
       "      <td>-3,79351</td>\n",
       "      <td>NaN</td>\n",
       "      <td>NaN</td>\n",
       "    </tr>\n",
       "    <tr>\n",
       "      <th>3</th>\n",
       "      <td>4</td>\n",
       "      <td>152776331</td>\n",
       "      <td>False</td>\n",
       "      <td>tecnocasa fuenlabrada ferrocarril</td>\n",
       "      <td>916358736.0</td>\n",
       "      <td>https://www.fotocasa.es/es/comprar/vivienda/ma...</td>\n",
       "      <td>3.0</td>\n",
       "      <td>1.0</td>\n",
       "      <td>86.0</td>\n",
       "      <td>89000</td>\n",
       "      <td>...</td>\n",
       "      <td>0</td>\n",
       "      <td>0</td>\n",
       "      <td>0</td>\n",
       "      <td>0</td>\n",
       "      <td>0</td>\n",
       "      <td>0</td>\n",
       "      <td>40,2853785786438</td>\n",
       "      <td>-3,79508142135624</td>\n",
       "      <td>NaN</td>\n",
       "      <td>NaN</td>\n",
       "    </tr>\n",
       "    <tr>\n",
       "      <th>85</th>\n",
       "      <td>86</td>\n",
       "      <td>153152077</td>\n",
       "      <td>False</td>\n",
       "      <td>sinergical inmobiliaria</td>\n",
       "      <td>NaN</td>\n",
       "      <td>https://www.fotocasa.es/es/comprar/vivienda/le...</td>\n",
       "      <td>1.0</td>\n",
       "      <td>1.0</td>\n",
       "      <td>50.0</td>\n",
       "      <td>107000</td>\n",
       "      <td>...</td>\n",
       "      <td>0</td>\n",
       "      <td>0</td>\n",
       "      <td>0</td>\n",
       "      <td>0</td>\n",
       "      <td>0</td>\n",
       "      <td>1</td>\n",
       "      <td>40,35059</td>\n",
       "      <td>-3,82693</td>\n",
       "      <td>NaN</td>\n",
       "      <td>NaN</td>\n",
       "    </tr>\n",
       "    <tr>\n",
       "      <th>94</th>\n",
       "      <td>95</td>\n",
       "      <td>153995577</td>\n",
       "      <td>False</td>\n",
       "      <td>viviendas365com</td>\n",
       "      <td>911226014.0</td>\n",
       "      <td>https://www.fotocasa.es/es/comprar/vivienda/le...</td>\n",
       "      <td>3.0</td>\n",
       "      <td>2.0</td>\n",
       "      <td>120.0</td>\n",
       "      <td>320000</td>\n",
       "      <td>...</td>\n",
       "      <td>0</td>\n",
       "      <td>0</td>\n",
       "      <td>0</td>\n",
       "      <td>0</td>\n",
       "      <td>0</td>\n",
       "      <td>0</td>\n",
       "      <td>40,31933</td>\n",
       "      <td>-3,77574</td>\n",
       "      <td>NaN</td>\n",
       "      <td>NaN</td>\n",
       "    </tr>\n",
       "    <tr>\n",
       "      <th>109</th>\n",
       "      <td>110</td>\n",
       "      <td>153586414</td>\n",
       "      <td>False</td>\n",
       "      <td>area uno asesores inmobiliarios</td>\n",
       "      <td>912664081.0</td>\n",
       "      <td>https://www.fotocasa.es/es/comprar/vivienda/ma...</td>\n",
       "      <td>3.0</td>\n",
       "      <td>3.0</td>\n",
       "      <td>142.0</td>\n",
       "      <td>425000</td>\n",
       "      <td>...</td>\n",
       "      <td>0</td>\n",
       "      <td>0</td>\n",
       "      <td>0</td>\n",
       "      <td>0</td>\n",
       "      <td>0</td>\n",
       "      <td>0</td>\n",
       "      <td>40,3313411</td>\n",
       "      <td>-3,8313868</td>\n",
       "      <td>NaN</td>\n",
       "      <td>NaN</td>\n",
       "    </tr>\n",
       "    <tr>\n",
       "      <th>...</th>\n",
       "      <td>...</td>\n",
       "      <td>...</td>\n",
       "      <td>...</td>\n",
       "      <td>...</td>\n",
       "      <td>...</td>\n",
       "      <td>...</td>\n",
       "      <td>...</td>\n",
       "      <td>...</td>\n",
       "      <td>...</td>\n",
       "      <td>...</td>\n",
       "      <td>...</td>\n",
       "      <td>...</td>\n",
       "      <td>...</td>\n",
       "      <td>...</td>\n",
       "      <td>...</td>\n",
       "      <td>...</td>\n",
       "      <td>...</td>\n",
       "      <td>...</td>\n",
       "      <td>...</td>\n",
       "      <td>...</td>\n",
       "      <td>...</td>\n",
       "    </tr>\n",
       "    <tr>\n",
       "      <th>15275</th>\n",
       "      <td>15276</td>\n",
       "      <td>153903887</td>\n",
       "      <td>False</td>\n",
       "      <td>aliseda servicios de gestion inmobiliaria</td>\n",
       "      <td>911368198.0</td>\n",
       "      <td>https://www.fotocasa.es/es/comprar/vivienda/al...</td>\n",
       "      <td>3.0</td>\n",
       "      <td>1.0</td>\n",
       "      <td>78.0</td>\n",
       "      <td>138000</td>\n",
       "      <td>...</td>\n",
       "      <td>0</td>\n",
       "      <td>0</td>\n",
       "      <td>0</td>\n",
       "      <td>0</td>\n",
       "      <td>0</td>\n",
       "      <td>1</td>\n",
       "      <td>40,31381</td>\n",
       "      <td>-3,83733</td>\n",
       "      <td>NaN</td>\n",
       "      <td>NaN</td>\n",
       "    </tr>\n",
       "    <tr>\n",
       "      <th>15291</th>\n",
       "      <td>15292</td>\n",
       "      <td>151697757</td>\n",
       "      <td>False</td>\n",
       "      <td>unipiso</td>\n",
       "      <td>912788631.0</td>\n",
       "      <td>https://www.fotocasa.es/es/comprar/vivienda/al...</td>\n",
       "      <td>3.0</td>\n",
       "      <td>2.0</td>\n",
       "      <td>110.0</td>\n",
       "      <td>279000</td>\n",
       "      <td>...</td>\n",
       "      <td>0</td>\n",
       "      <td>0</td>\n",
       "      <td>0</td>\n",
       "      <td>0</td>\n",
       "      <td>0</td>\n",
       "      <td>0</td>\n",
       "      <td>40,3259051</td>\n",
       "      <td>-3,76318</td>\n",
       "      <td>NaN</td>\n",
       "      <td>NaN</td>\n",
       "    </tr>\n",
       "    <tr>\n",
       "      <th>15305</th>\n",
       "      <td>15306</td>\n",
       "      <td>153902389</td>\n",
       "      <td>False</td>\n",
       "      <td>jadein ferrero</td>\n",
       "      <td>914871639.0</td>\n",
       "      <td>https://www.fotocasa.es/es/comprar/vivienda/ma...</td>\n",
       "      <td>3.0</td>\n",
       "      <td>2.0</td>\n",
       "      <td>85.0</td>\n",
       "      <td>170000</td>\n",
       "      <td>...</td>\n",
       "      <td>0</td>\n",
       "      <td>0</td>\n",
       "      <td>0</td>\n",
       "      <td>0</td>\n",
       "      <td>0</td>\n",
       "      <td>0</td>\n",
       "      <td>40,2882193</td>\n",
       "      <td>-3,8098617</td>\n",
       "      <td>NaN</td>\n",
       "      <td>NaN</td>\n",
       "    </tr>\n",
       "    <tr>\n",
       "      <th>15322</th>\n",
       "      <td>15323</td>\n",
       "      <td>153871864</td>\n",
       "      <td>False</td>\n",
       "      <td>gestion comercial</td>\n",
       "      <td>911220662.0</td>\n",
       "      <td>https://www.fotocasa.es/es/comprar/vivienda/ma...</td>\n",
       "      <td>3.0</td>\n",
       "      <td>1.0</td>\n",
       "      <td>91.0</td>\n",
       "      <td>112000</td>\n",
       "      <td>...</td>\n",
       "      <td>0</td>\n",
       "      <td>0</td>\n",
       "      <td>0</td>\n",
       "      <td>0</td>\n",
       "      <td>0</td>\n",
       "      <td>0</td>\n",
       "      <td>40,28282</td>\n",
       "      <td>-3,78892</td>\n",
       "      <td>NaN</td>\n",
       "      <td>NaN</td>\n",
       "    </tr>\n",
       "    <tr>\n",
       "      <th>15325</th>\n",
       "      <td>15326</td>\n",
       "      <td>153901467</td>\n",
       "      <td>False</td>\n",
       "      <td>montehogar 68</td>\n",
       "      <td>911790675.0</td>\n",
       "      <td>https://www.fotocasa.es/es/comprar/vivienda/ma...</td>\n",
       "      <td>2.0</td>\n",
       "      <td>2.0</td>\n",
       "      <td>99.0</td>\n",
       "      <td>215000</td>\n",
       "      <td>...</td>\n",
       "      <td>0</td>\n",
       "      <td>0</td>\n",
       "      <td>0</td>\n",
       "      <td>0</td>\n",
       "      <td>0</td>\n",
       "      <td>1</td>\n",
       "      <td>40,28062</td>\n",
       "      <td>-3,79869</td>\n",
       "      <td>NaN</td>\n",
       "      <td>NaN</td>\n",
       "    </tr>\n",
       "  </tbody>\n",
       "</table>\n",
       "<p>907 rows × 37 columns</p>\n",
       "</div>"
      ],
      "text/plain": [
       "       Unnamed: 0  id_realEstates  isNew  \\\n",
       "1               2       153867863  False   \n",
       "3               4       152776331  False   \n",
       "85             86       153152077  False   \n",
       "94             95       153995577  False   \n",
       "109           110       153586414  False   \n",
       "...           ...             ...    ...   \n",
       "15275       15276       153903887  False   \n",
       "15291       15292       151697757  False   \n",
       "15305       15306       153902389  False   \n",
       "15322       15323       153871864  False   \n",
       "15325       15326       153901467  False   \n",
       "\n",
       "                                 realEstate_name  phone_realEstate  \\\n",
       "1              tecnocasa fuenlabrada ferrocarril       916358736.0   \n",
       "3              tecnocasa fuenlabrada ferrocarril       916358736.0   \n",
       "85                       sinergical inmobiliaria               NaN   \n",
       "94                               viviendas365com       911226014.0   \n",
       "109              area uno asesores inmobiliarios       912664081.0   \n",
       "...                                          ...               ...   \n",
       "15275  aliseda servicios de gestion inmobiliaria       911368198.0   \n",
       "15291                                    unipiso       912788631.0   \n",
       "15305                             jadein ferrero       914871639.0   \n",
       "15322                          gestion comercial       911220662.0   \n",
       "15325                              montehogar 68       911790675.0   \n",
       "\n",
       "                                            url_inmueble  rooms  bathrooms  \\\n",
       "1      https://www.fotocasa.es/es/comprar/vivienda/ma...    3.0        1.0   \n",
       "3      https://www.fotocasa.es/es/comprar/vivienda/ma...    3.0        1.0   \n",
       "85     https://www.fotocasa.es/es/comprar/vivienda/le...    1.0        1.0   \n",
       "94     https://www.fotocasa.es/es/comprar/vivienda/le...    3.0        2.0   \n",
       "109    https://www.fotocasa.es/es/comprar/vivienda/ma...    3.0        3.0   \n",
       "...                                                  ...    ...        ...   \n",
       "15275  https://www.fotocasa.es/es/comprar/vivienda/al...    3.0        1.0   \n",
       "15291  https://www.fotocasa.es/es/comprar/vivienda/al...    3.0        2.0   \n",
       "15305  https://www.fotocasa.es/es/comprar/vivienda/ma...    3.0        2.0   \n",
       "15322  https://www.fotocasa.es/es/comprar/vivienda/ma...    3.0        1.0   \n",
       "15325  https://www.fotocasa.es/es/comprar/vivienda/ma...    2.0        2.0   \n",
       "\n",
       "       surface   price  ... level4Id level5Id level6Id level7Id level8Id  \\\n",
       "1          NaN   89000  ...        0        0        0        0        0   \n",
       "3         86.0   89000  ...        0        0        0        0        0   \n",
       "85        50.0  107000  ...        0        0        0        0        0   \n",
       "94       120.0  320000  ...        0        0        0        0        0   \n",
       "109      142.0  425000  ...        0        0        0        0        0   \n",
       "...        ...     ...  ...      ...      ...      ...      ...      ...   \n",
       "15275     78.0  138000  ...        0        0        0        0        0   \n",
       "15291    110.0  279000  ...        0        0        0        0        0   \n",
       "15305     85.0  170000  ...        0        0        0        0        0   \n",
       "15322     91.0  112000  ...        0        0        0        0        0   \n",
       "15325     99.0  215000  ...        0        0        0        0        0   \n",
       "\n",
       "      accuracy          latitude          longitude zipCode customZone  \n",
       "1            1          40,28674           -3,79351     NaN        NaN  \n",
       "3            0  40,2853785786438  -3,79508142135624     NaN        NaN  \n",
       "85           1          40,35059           -3,82693     NaN        NaN  \n",
       "94           0          40,31933           -3,77574     NaN        NaN  \n",
       "109          0        40,3313411         -3,8313868     NaN        NaN  \n",
       "...        ...               ...                ...     ...        ...  \n",
       "15275        1          40,31381           -3,83733     NaN        NaN  \n",
       "15291        0        40,3259051           -3,76318     NaN        NaN  \n",
       "15305        0        40,2882193         -3,8098617     NaN        NaN  \n",
       "15322        0          40,28282           -3,78892     NaN        NaN  \n",
       "15325        1          40,28062           -3,79869     NaN        NaN  \n",
       "\n",
       "[907 rows x 37 columns]"
      ]
     },
     "execution_count": 34,
     "metadata": {},
     "output_type": "execute_result"
    }
   ],
   "source": [
    "import pandas as pd\n",
    "ds = pd.read_csv('assets/real_estate.csv', sep=';')\n",
    "\n",
    "city = [\"Fuenlabrada\", \"Leganés\", \"Getafe\", \"Alcorcón\" ]\n",
    "south_belt = ds[ds[\"level5\"].isin(city)]\n",
    "\n",
    "south_belt"
   ]
  },
  {
   "attachments": {},
   "cell_type": "markdown",
   "id": "severe-fisher",
   "metadata": {},
   "source": [
    "#### Exercise 15. Make a bar plot of the median of the prices and explain what you observe (you must use the subset obtained in Exercise 14) (★★★)\n",
    "\n",
    "Print the bar of the median of the prices and write in the Markdown cell a brief analysis about the plot."
   ]
  },
  {
   "cell_type": "code",
   "execution_count": null,
   "id": "lyric-bunch",
   "metadata": {},
   "outputs": [
    {
     "data": {
      "image/png": "[encoded data removed]",
      "text/plain": [
       "<Figure size 1000x500 with 1 Axes>"
      ]
     },
     "metadata": {},
     "output_type": "display_data"
    }
   ],
   "source": [
    "import pandas as pd\n",
    "import matplotlib.pyplot as plt\n",
    "import numpy as np\n",
    "\n",
    "ds = pd.read_csv('assets/real_estate.csv', sep=';')\n",
    "\n",
    "city = [\"Fuenlabrada\", \"Leganés\", \"Getafe\", \"Alcorcón\" ]\n",
    "south_belt = ds[ds[\"level5\"].isin(city)]\n",
    "\n",
    "first = south_belt[south_belt[\"level5\"] == \"Fuenlabrada\"]\n",
    "median_first = first[\"price\"].mean()\n",
    "\n",
    "second = south_belt[south_belt[\"level5\"] == \"Leganés\"]\n",
    "median_second = second[\"price\"].median()\n",
    "\n",
    "third = south_belt[south_belt[\"level5\"] == \"Getafe\"]\n",
    "median_third = third[\"price\"].median()\n",
    "\n",
    "fourth = south_belt[south_belt[\"level5\"] == \"Alcorcón\"]\n",
    "median_fourth = fourth[\"price\"].median()\n",
    "\n",
    "labels = [\"Fuenlabrada\", \"Leganés\", \"Getafe\", \"Alcorcón\" ]\n",
    "values = [median_first, median_second, median_third, median_fourth]\n",
    "\n",
    "plt.figure(figsize = (10,5))\n",
    "plt.bar(labels, values)\n",
    "plt.title(\"Median of Prices\")\n",
    "plt.show()\n",
    "\n",
    "\n",
    "\n",
    "\n",
    "\n",
    "\n",
    "\n"
   ]
  },
  {
   "attachments": {},
   "cell_type": "markdown",
   "id": "sublime-newspaper",
   "metadata": {},
   "source": [
    "We can observe in this graph that the most expensive area on the Salth belt of Madrid is th Getafe. The other areas in the graph have a similar average price."
   ]
  },
  {
   "attachments": {},
   "cell_type": "markdown",
   "id": "speaking-diamond",
   "metadata": {},
   "source": [
    "#### Exercise 16. Calculate the sample mean and variance of the variables: price, rooms, surface area and bathrooms (you must use the subset obtained in Exercise 14) (★★★)\n",
    "\n",
    "Print both values for each variable."
   ]
  },
  {
   "cell_type": "code",
   "execution_count": null,
   "id": "random-feeling",
   "metadata": {},
   "outputs": [
    {
     "name": "stdout",
     "output_type": "stream",
     "text": [
      "Mean values in Fuenlabrada\n",
      "price        177198.021459\n",
      "rooms             3.025974\n",
      "surface         103.624365\n",
      "bathrooms         1.445415\n",
      "dtype: float64\n",
      "\n",
      "Variance values in Fuenlabrada\n",
      "price        4.701021e+09\n",
      "rooms        3.558442e-01\n",
      "surface      2.264644e+03\n",
      "bathrooms    3.533670e-01\n",
      "dtype: float64\n",
      "\n",
      "Mean values in Leganés\n",
      "price        208682.010309\n",
      "rooms             2.906736\n",
      "surface         105.852273\n",
      "bathrooms         1.518135\n",
      "dtype: float64\n",
      "\n",
      "Variance values in Leganés\n",
      "price        1.191394e+10\n",
      "rooms        8.245898e-01\n",
      "surface      3.987475e+03\n",
      "bathrooms    5.530548e-01\n",
      "dtype: float64\n",
      "\n",
      "Mean values in Getafe\n",
      "price        285305.0\n",
      "rooms             3.0\n",
      "surface         116.0\n",
      "bathrooms         2.0\n",
      "dtype: float64\n",
      "\n",
      "Variance values in Getafe\n",
      "price        2.098267e+10\n",
      "rooms        7.727479e-01\n",
      "surface      5.828110e+03\n",
      "bathrooms    6.588091e-01\n",
      "dtype: float64\n",
      "\n",
      "Mean values in Alcorcón\n",
      "price        179500.0\n",
      "rooms             3.0\n",
      "surface          85.0\n",
      "bathrooms         1.0\n",
      "dtype: float64\n",
      "\n",
      "Variance values in Alcorcón\n",
      "price        1.594783e+10\n",
      "rooms        9.338946e-01\n",
      "surface      4.244324e+03\n",
      "bathrooms    5.927347e-01\n",
      "dtype: float64\n",
      "\n"
     ]
    }
   ],
   "source": [
    "import pandas as pd\n",
    "\n",
    "\n",
    "ds = pd.read_csv('assets/real_estate.csv', sep=';')\n",
    "\n",
    "city = [\"Fuenlabrada\", \"Leganés\", \"Getafe\", \"Alcorcón\" ]\n",
    "south_belt = ds[ds[\"level5\"].isin(city)]\n",
    "\n",
    "print(\"Mean values in Fuenlabrada\")\n",
    "first = south_belt[south_belt[\"level5\"] == \"Fuenlabrada\"]\n",
    "median_first = first[[\"price\", \"rooms\", \"surface\", \"bathrooms\"] ].mean()\n",
    "median_first1 = first[[\"price\", \"rooms\", \"surface\", \"bathrooms\"] ].var()\n",
    "print(median_first)\n",
    "print()\n",
    "print(\"Variance values in Fuenlabrada\")\n",
    "print(median_first1)\n",
    "print()\n",
    "print(\"Mean values in Leganés\")\n",
    "second = south_belt[south_belt[\"level5\"] == \"Leganés\"]\n",
    "median_second = second[[\"price\", \"rooms\", \"surface\", \"bathrooms\"] ].mean()\n",
    "median_second1 = second[[\"price\", \"rooms\", \"surface\", \"bathrooms\"] ].var()\n",
    "print(median_second)\n",
    "print()\n",
    "print(\"Variance values in Leganés\")\n",
    "print(median_second1)\n",
    "print()\n",
    "print(\"Mean values in Getafe\")\n",
    "third = south_belt[south_belt[\"level5\"] == \"Getafe\"]\n",
    "median_third = third[[\"price\", \"rooms\", \"surface\", \"bathrooms\"]].median()\n",
    "median_third1 = third[[\"price\", \"rooms\", \"surface\", \"bathrooms\"] ].var()\n",
    "print(median_third)\n",
    "print()\n",
    "print(\"Variance values in Getafe\")\n",
    "print(median_third1)\n",
    "print()\n",
    "print(\"Mean values in Alcorcón\")\n",
    "fourth = south_belt[south_belt[\"level5\"] == \"Alcorcón\"]\n",
    "median_fourth = fourth[[\"price\", \"rooms\", \"surface\", \"bathrooms\"]].median()\n",
    "median_fourth1 = fourth[[\"price\", \"rooms\", \"surface\", \"bathrooms\"]].var()\n",
    "print(median_fourth)\n",
    "print()\n",
    "print(\"Variance values in Alcorcón\")\n",
    "print(median_fourth1)\n",
    "print()\n"
   ]
  },
  {
   "attachments": {},
   "cell_type": "markdown",
   "id": "revolutionary-matrix",
   "metadata": {},
   "source": [
    "#### Exercise 17. What is the most expensive house in each population? You must use the subset obtained in Exercise 14 (★★☆)\n",
    "\n",
    "Print both the address and the price of the selected house of each population. You can print a DataFrame or a single line for each population."
   ]
  },
  {
   "cell_type": "code",
   "execution_count": null,
   "id": "fifteen-browse",
   "metadata": {},
   "outputs": [
    {
     "data": {
      "text/html": [
       "<div>\n",
       "<style scoped>\n",
       "    .dataframe tbody tr th:only-of-type {\n",
       "        vertical-align: middle;\n",
       "    }\n",
       "\n",
       "    .dataframe tbody tr th {\n",
       "        vertical-align: top;\n",
       "    }\n",
       "\n",
       "    .dataframe thead th {\n",
       "        text-align: right;\n",
       "    }\n",
       "</style>\n",
       "<table border=\"1\" class=\"dataframe\">\n",
       "  <thead>\n",
       "    <tr style=\"text-align: right;\">\n",
       "      <th></th>\n",
       "      <th>Fuenlabrada</th>\n",
       "      <th>Leganés</th>\n",
       "      <th>Getafe</th>\n",
       "      <th>Alcorcón</th>\n",
       "    </tr>\n",
       "  </thead>\n",
       "  <tbody>\n",
       "    <tr>\n",
       "      <th>prices</th>\n",
       "      <td>490000</td>\n",
       "      <td>650000</td>\n",
       "      <td>1050000</td>\n",
       "      <td>950000</td>\n",
       "    </tr>\n",
       "  </tbody>\n",
       "</table>\n",
       "</div>"
      ],
      "text/plain": [
       "        Fuenlabrada  Leganés   Getafe  Alcorcón\n",
       "prices       490000   650000  1050000    950000"
      ]
     },
     "execution_count": 37,
     "metadata": {},
     "output_type": "execute_result"
    }
   ],
   "source": [
    "import pandas as pd\n",
    "ds = pd.read_csv('assets/real_estate.csv', sep=';')\n",
    "\n",
    "city = [\"Fuenlabrada\", \"Leganés\", \"Getafe\", \"Alcorcón\" ]\n",
    "south_belt = ds[ds[\"level5\"].isin(city)]\n",
    "\n",
    "first = south_belt[south_belt[\"level5\"] == \"Fuenlabrada\"]\n",
    "most_exp = first[\"price\"].max()\n",
    "\n",
    "second = south_belt[south_belt[\"level5\"] == \"Leganés\"]\n",
    "most_exp2 = second[\"price\"].max()\n",
    "\n",
    "third = south_belt[south_belt[\"level5\"] == \"Getafe\"]\n",
    "most_exp3 = third[\"price\"].max()\n",
    "\n",
    "fourth = south_belt[south_belt[\"level5\"] == \"Alcorcón\"]\n",
    "most_exp4 = fourth[\"price\"].max()\n",
    "\n",
    "most_expensive = {\n",
    "    \"Fuenlabrada\": most_exp, \n",
    "    \"Leganés\" : most_exp2, \n",
    "    \"Getafe\"  : most_exp3,\n",
    "    \"Alcorcón\" : most_exp4\n",
    "}\n",
    "dataframe = pd.DataFrame(most_expensive, index = [\"prices\"])\n",
    "dataframe"
   ]
  },
  {
   "attachments": {},
   "cell_type": "markdown",
   "id": "activated-knight",
   "metadata": {},
   "source": [
    "#### Exercise 18. Normalize the variable of prices for each population and plot the 4 histograms in the same plot (you must use the subset obtained in Exercise 14) (★★★)\n",
    "\n",
    "For the normalization method, you can use the one you consider; there is not a single correct answer to this question. Print the plot and write in the Markdown cell a brief analysis about the plot.\n",
    "\n",
    "Hint: You can help yourself by reviewing the multihist demo of matplotlib."
   ]
  },
  {
   "cell_type": "code",
   "execution_count": null,
   "id": "civic-meditation",
   "metadata": {},
   "outputs": [
    {
     "name": "stdout",
     "output_type": "stream",
     "text": [
      "[1.0199501246882794, 0.371571072319202, 0.571072319201995, 0.8653366583541147, 1.1945236907730674, 0.8428927680798005, 0.6458852867830424, 0.4775561097256858, 0.8042394014962594, 1.4064837905236909, 1.1945137157107233, 1.43142144638404, 0.5187032418952618, 0.4613466334164589, 0.5411221945137157, 0.6608478802992519, 1.1945236907730674, 1.3139650872817956, 0.6458852867830424, 0.7206982543640897, 1.1296758104738154, 1.0, 1.0, 1.1172069825436408, 0.5286783042394015, 0.5566084788029925, 0.5334164588528678, 1.4364089775561097, 1.3316708229426435, 0.9576059850374065, 0.4912718204488778, 0.5336658354114713, 0.5458852867830424, 0.6556109725685786, 1.0199501246882794, 0.5566084788029925, 0.6458852867830424, 0.600997506234414, 0.5882793017456359, 0.5411471321695761, 1.1820448877805487, 0.6206982543640898, 1.057356608478803, 0.8703241895261845, 1.2194513715710724, 0.9177057356608479, 0.7942643391521197, 0.5760598503740648, 1.1371571072319202, 0.6583541147132169, 0.43341645885286784, 0.6708229426433915, 0.5832917705735661, 0.571072319201995, 0.6022443890274314, 0.6456359102244389, 0.45885286783042395, 0.9950124688279302, 0.5586034912718204, 0.49625935162094764, 0.5087281795511222, 0.787780548628429, 0.5586034912718204, 0.8551122194513716, 0.5835411471321695, 0.571072319201995, 1.069576059850374, 0.571072319201995, 1.3189526184538654, 0.8825436408977556, 1.11072319201995, 0.670573566084788, 0.830423940149626, 0.7528678304239401, 0.4613466334164589, 0.8653366583541147, 0.571072319201995, 0.9451371571072319, 0.5087281795511222, 0.6583541147132169, 0.5336658354114713, 0.9576059850374065, 1.14214463840399, 0.6458852867830424, 0.6458852867830424, 1.1945236907730674, 1.0, 0.830423940149626, 0.5012468827930174, 0.5835411471321695, 0.6583541147132169, 0.4688279301745636, 0.49625935162094764, 0.6708229426433915, 0.4837905236907731, 0.5012468827930174, 0.4837905236907731, 0.5012468827930174, 0.5364089775561097, 0.5780548628428928, 0.9077306733167082, 0.6508728179551122, 0.456359102244389, 1.1296758104738154, 0.5364089775561097, 0.6334164588528678, 0.4613466334164589, 0.5361596009975063, 0.8825436408977556, 0.9822942643391521, 0.8201995012468828, 0.4488778054862843, 0.9650872817955112, 1.0049875311720697, 1.0049875311720697, 1.4064837905236909, 0.5511221945137157, 0.812219451371571, 0.4937655860349127, 1.8428927680798004, 1.144638403990025, 0.6084788029925187, 0.42643391521197005, 0.6134663341645885, 0.5336658354114713, 0.571072319201995, 0.6583541147132169, 0.8703241895261845, 0.5708229426433915, 1.3139650872817956, 0.9451371571072319, 0.571072319201995, 0.543640897755611, 0.6583541147132169, 0.7205735660847881, 0.5461346633416458, 1.1571072319201996, 0.7205735660847881, 0.655860349127182, 1.1172069825436408, 0.627930174563591, 0.5783042394014962, 0.6159600997506235, 0.5586034912718204, 0.6882793017456359, 0.7331670822942643, 0.6234413965087282, 0.5461346633416458, 0.4688279301745636, 0.4837905236907731, 0.5087281795511222, 0.787780548628429, 0.830423940149626, 0.6508728179551122, 0.6907730673316709, 0.5364089775561097, 0.5458852867830424, 0.5458852867830424, 0.571072319201995, 1.3940149625935163, 0.5336658354114713, 0.5087281795511222, 0.643142144638404, 0.5084788029925187, 0.5189526184538653, 0.9822942643391521, 0.5960099750623441, 0.571072319201995, 0.456359102244389, 0.49625935162094764, 0.49625935162094764, 0.7955112219451371, 0.6583541147132169, 1.4069825436408978, 1.0812967581047381, 0.8329177057356608, 0.6197007481296758, 0.8329177057356608, 0.6197007481296758, 0.571072319201995, 0.5810473815461347, 0.571072319201995, 0.4960099750623441, 0.4837905236907731, 0.5423940149625935, 1.1945236907730674, 0.7880299251870324, 0.4960099750623441, 0.5411471321695761, 0.5062344139650873, 0.8698254364089776, 0.44613466334164587, 1.1945236907730674, 0.9177057356608479]\n",
      "[0.9451371571072319, 0.5645885286783042, 0.559850374064838, 0.471072319201995, 1.3566084788029926, 0.6334164588528678, 0.5336658354114713, 0.5585785536159601, 0.5511221945137157, 0.6458852867830424, 1.2942643391521198, 0.9374064837905237, 0.5211970074812967, 1.1571072319201996, 0.870074812967581, 0.471072319201995, 0.5174563591022444, 0.49002493765586036, 0.5159600997506234, 1.1895261845386533, 0.6209476309226932, 0.9448877805486284, 0.22194513715710723, 0.5635910224438903, 1.2194513715710724, 1.0192418952618454, 1.087281795511222, 0.22194513715710723, 0.45760598503740646, 1.4703192019950124, 1.1571072319201996, 0.9253067331670823, 1.1571072319201996, 0.9253067331670823, 0.4339152119700748, 1.0911720698254364, 1.0911720698254364, 1.0753117206982543, 1.1870324189526185, 1.3940149625935163, 1.167082294264339, 1.4413965087281795, 1.2394014962593516, 1.144638403990025, 0.46633416458852867, 0.5012468827930174, 0.5211970074812967, 0.46633416458852867, 0.5012468827930174, 0.5211970074812967, 1.1645885286783042, 2.8403990024937658, 0.9950124688279302, 0.9576059850374065, 0.49625935162094764, 0.5187032418952618, 0.5523690773067331, 0.5685785536159601, 0.7204488778054863, 1.027431421446384, 1.0635910224438903, 1.1658354114713216, 0.8728179551122195, 1.087281795511222, 1.158354114713217, 1.0798004987531171, 1.3167082294264338, 1.0012468827930174, 1.0062344139650872, 1.259351620947631, 1.2344139650872819, 1.3366583541147132, 1.1633416458852868, 1.1957605985037407, 0.8952618453865336, 1.1795511221945136, 1.2394014962593516, 1.0448877805486285, 1.112219451371571, 0.7755610972568578, 1.2605985037406484, 0.9812967581047382, 1.0648379052369077, 1.2643391521197007, 0.9364089775561097, 1.2506234413965087, 0.9850374064837906, 1.0822942643391522, 0.22194513715710723, 0.22194513715710723, 0.22194513715710723, 1.1571072319201996, 1.4413965087281795, 1.1820448877805487, 0.971286783042394, 0.22194513715710723, 0.57356608478803, 0.9673316708229427, 1.1633416458852868, 1.1633416458852868, 1.1443890274314215, 0.6084788029925187, 1.5436408977556109, 0.6184538653366584, 0.655860349127182, 2.1159600997506236, 0.5112219451371571, 0.6209476309226932, 0.5087281795511222, 0.4912718204488778, 1.2942643391521198, 0.5087281795511222, 0.5461321695760598, 0.48129675810473815, 0.5685785536159601, 0.5211970074812967, 0.6334164588528678, 0.48129675810473815, 0.5610972568578554, 0.5910224438902744, 0.5311720698254364, 0.8192019950124688, 0.5511221945137157, 0.6059850374064838, 1.144638403990025, 0.9343790523690773, 1.3516209476309227, 0.9343790523690773, 1.3516209476309227, 0.9825436408977556, 1.158354114713217, 1.1389027431421446, 0.22194513715710723, 1.2198728179551122, 1.1437655860349127, 1.1820448877805487, 1.14214463840399, 1.143640897755611, 0.8229426433915212, 1.087281795511222, 0.513715710723192, 1.0673316708229426, 1.1496259351620948, 1.1496259351620948, 0.49002493765586036, 0.770573566084788, 0.49002493765586036, 0.770573566084788, 0.5785536159600998, 1.1463840399002494, 1.1957605985037407, 1.1321695760598505, 0.22194513715710723, 1.0228179551122194, 0.22194513715710723, 1.012640897755611, 1.0635910224438903, 0.5561097256857855, 0.49002493765586036, 0.571072319201995, 1.4488778054862843, 0.4763092269326683, 0.4912718204488778, 1.4413965087281795, 1.2144638403990025, 1.2144638403990025, 1.2144638403990025, 0.9902743142144639, 1.5311720698254363, 0.9944538653366584, 0.22194513715710723, 0.9355610972568579, 0.22194513715710723, 1.1658354114713216, 0.8728179551122195, 1.044139650872818, 0.4087281795511222, 0.8201995012468828, 0.8201995012468828, 0.5610972568578554, 0.5319201995012469, 0.5399002493765586, 0.5586034912718204, 0.5935162094763092, 0.6708229426433915, 0.9199501246882793, 0.4912718204488778, 0.8428927680798005, 0.5910224438902744, 0.5536159600997507, 1.680798004987531, 0.8428927680798005, 0.5910224438902744, 0.5536159600997507, 0.8428927680798005, 0.5910224438902744, 0.5536159600997507, 1.680798004987531, 0.7007481296758105, 1.0922693266832917, 1.1371571072319202, 1.0366583541147132, 0.48129675810473815, 0.9364089775561097, 1.139650872817955, 0.8952618453865336, 0.8954887780548628, 1.0579526184538652, 1.119700748129676, 1.119700748129676, 0.8358453865336658, 0.7755610972568578, 1.112219451371571, 1.167082294264339, 1.0423940149625934, 0.9451371571072319, 1.1321695760598505, 0.879783042394015, 0.22194513715710723, 1.167082294264339, 0.5685785536159601, 1.0511221945137157, 1.2086982543640898, 1.0448877805486285, 1.2086982543640898, 1.0448877805486285, 1.2086982543640898, 1.0448877805486285, 1.2668329177057356, 0.6433915211970075, 0.5386533665835411, 0.4775561097256858, 0.6084788029925187, 0.45261845386533667, 1.1546134663341645, 0.5610972568578554, 1.2817955112219452, 1.1321695760598505, 0.45885286783042395, 1.1658354114713216, 0.4763092269326683, 0.8697655860349127, 2.1546134663341645, 0.47880299251870323, 0.6533665835411472, 1.0648379052369077, 0.5334164588528678, 1.2643391521197007, 1.139650872817955, 0.7581047381546134, 0.9324788029925187, 0.6458852867830424, 0.4763092269326683, 0.4886957605985037, 0.7331670822942643, 0.9825436408977556, 0.6034912718204489, 1.0448877805486285, 0.4339152119700748, 0.8927680798004988, 1.226932668329177, 1.2605985037406484, 1.2817955112219452, 0.5211720698254364, 0.7780548628428927, 0.5211720698254364, 0.7780548628428927, 1.1795511221945136, 1.1941870324189525, 1.1571072319201996, 1.1459825436408977, 0.5960074812967581, 0.5960074812967581, 0.5334164588528678, 0.48129675810473815, 0.5585785536159601, 0.5585785536159601, 0.8827930174563591, 0.7731920199501247, 0.9199501246882793, 1.1172069825436408, 1.2069825436408979, 1.144638403990025, 0.4962568578553616, 0.5386533665835411, 1.1321695760598505, 0.9313990024937656, 1.3366583541147132, 1.1101246882793017, 1.2506234413965087]\n",
      "[0.48877805486284287, 1.2817955112219452, 0.8403990024937655, 0.9675810473815462, 0.5209476309226932, 0.543640897755611, 0.6334164588528678, 0.5336658354114713, 1.0399002493765586, 0.5810473815461347, 0.5810473815461347, 0.7655860349127181, 1.4064837905236909, 1.344139650872818, 1.1810473815461346, 1.2443890274314215, 0.6458852867830424, 0.4713216957605985, 1.0423940149625934, 1.7251870324189527, 0.4937655860349127, 1.4189526184538654, 0.645137157107232, 0.9950124688279302, 0.4688279301745636, 0.6608478802992519, 0.5386533665835411, 0.5610972568578554, 0.48877805486284287, 0.5610972568578554, 0.6359102244389028, 0.683291770573566, 0.4937655860349127, 0.6783042394014963, 0.870074812967581, 0.6206982543640898, 0.7805486284289277, 0.7955112219451371, 1.044638403990025, 0.5334164588528678, 1.2369077306733167, 0.5511221945137157, 0.5211970074812967, 0.5586034912718204, 0.5087281795511222, 0.8950124688279302, 0.5835411471321695, 0.6084788029925187, 1.3613466334164588, 0.6184538653366584, 1.2693266832917707, 1.4117206982543642, 0.9399002493765586, 1.0199501246882794, 1.269077306733167, 0.8428927680798005, 0.5486284289276808, 1.3167082294264338, 0.5211970074812967, 0.6583541147132169, 0.8104738154613467, 0.5586034912718204, 0.5511221945137157, 0.5860349127182045, 0.5960099750623441, 2.5910224438902745, 0.5336658354114713, 0.7182044887780549, 0.683291770573566, 1.0448877805486285, 1.032418952618454, 1.2693266832917707, 0.5461346633416458, 1.2693266832917707, 0.5461346633416458, 0.8104738154613467, 0.5461346633416458, 0.5653366583541147, 0.628428927680798, 1.0623441396508728, 1.5381546134663342, 0.5610972568578554, 1.525436408977556, 1.1211970074812967, 0.683291770573566, 1.4496259351620948, 1.144638403990025, 0.45012468827930174, 0.8678304239401496, 0.9416458852867831, 0.5875311720698254, 0.5875311720698254, 0.5875311720698254, 0.5211970074812967, 1.4895261845386534, 0.6184538653366584, 1.1271820448877805, 1.032418952618454, 0.6583541147132169, 0.5835411471321695, 0.6733167082294265, 0.5610972568578554, 0.513715710723192, 0.5087281795511222, 0.5935162094763092, 0.5935162094763092, 0.8179551122194514, 0.543640897755611, 0.7581047381546134, 0.6458852867830424, 0.8179551122194514, 0.543640897755611, 0.7581047381546134, 0.6458852867830424, 1.1336658354114713, 1.1336658354114713, 0.5286783042394015, 1.119700748129676, 0.5825436408977556, 1.0623441396508728, 0.6458852867830424, 0.5827930174563591, 0.9451371571072319, 0.7107231920199502, 0.6209476309226932, 0.9675810473815462, 0.7581047381546134, 0.5336658354114713, 0.6927680798004987, 0.8104738154613467, 0.5780548628428928, 0.5780548628428928, 0.5780548628428928, 0.9438902743142145, 0.4613466334164589, 0.7855361596009975, 0.7855361596009975, 0.8952618453865336, 0.543640897755611, 0.8952618453865336, 0.6059850374064838, 0.6633416458852868, 0.8628428927680798, 0.5660847880299252, 0.8703241895261845, 0.4837905236907731, 0.6583541147132169, 0.471072319201995, 0.8927680798004988, 0.5945137157107232, 0.5625935162094763, 1.0623441396508728, 1.319201995012469, 0.8054862842892768, 1.2917705735660847, 0.5935162094763092, 0.85785536159601, 0.571072319201995, 0.587281795511222, 0.45012468827930174, 1.0448877805486285, 0.9199501246882793, 0.5635910224438903, 1.032418952618454, 0.5586034912718204, 0.5461346633416458, 1.743142144638404, 0.7703241895261845, 0.6783042394014963, 0.49625935162094764, 0.4837905236907731, 0.6059850374064838, 0.6683291770573566, 1.2618453865336658, 0.5286783042394015, 0.9950124688279302, 0.6209476309226932, 0.5960099750623441, 0.8104738154613467, 0.6708229426433915, 0.9576059850374065, 0.45885286783042395, 0.8379052369077307, 0.8204488778054863, 0.6783042394014963, 0.5586034912718204, 1.0448877805486285, 0.6583541147132169, 1.0149625935162094, 0.8628428927680798]\n"
     ]
    },
    {
     "data": {
      "image/png": "[encoded data removed]",
      "text/plain": [
       "<Figure size 1000x500 with 1 Axes>"
      ]
     },
     "metadata": {},
     "output_type": "display_data"
    }
   ],
   "source": [
    "import pandas as pd\n",
    "import matplotlib.pyplot as plt\n",
    "import numpy as np\n",
    "\n",
    "ds = pd.read_csv('assets/real_estate.csv', sep=';')\n",
    "\n",
    "city = [\"Fuenlabrada\", \"Leganés\", \"Getafe\", \"Alcorcón\" ]\n",
    "south_belt = ds[ds[\"level5\"].isin(city)]\n",
    "####################################Fuenlabrada#############################\n",
    "city_data = south_belt[south_belt[\"level5\"] == \"Fuenlabrada\" ]\n",
    "price = city_data[\"price\"]\n",
    "min = city_data[\"price\"].min()\n",
    "max = city_data[\"price\"].max()\n",
    "\n",
    "new_price = list(price)\n",
    "\n",
    "normalized = [(i + min)/(max - min) for i in new_price]\n",
    "#print(normalized)\n",
    "#This convertion to numbers got from chat GPT\n",
    "df1 = pd.DataFrame(normalized, columns=['values'])  \n",
    "\n",
    "# Filter only numeric values  \n",
    "numbers_only = df1['values'].apply(lambda x: isinstance(x, (int, float, np.float64)))  \n",
    "\n",
    "# Extract the numeric values  \n",
    "numeric_values_fuenlabrada = df1[numbers_only]['values'].tolist()  \n",
    "####################################Leganés#############################\n",
    "city_datal = south_belt[south_belt[\"level5\"] == \"Leganés\" ]\n",
    "pricel = city_datal[\"price\"]\n",
    "minl = city_datal[\"price\"].min()\n",
    "maxl = city_datal[\"price\"].max()\n",
    "\n",
    "new_pricel = list(pricel)\n",
    "\n",
    "normalizedl = [(i + min)/(max - min) for i in new_pricel]\n",
    "#print(normalized)\n",
    "#This convertion to numbers got from chat GPT\n",
    "df1l = pd.DataFrame(normalizedl, columns=['values'])  \n",
    "\n",
    "# Filter only numeric values  \n",
    "numbers_onlyl = df1l['values'].apply(lambda x: isinstance(x, (int, float, np.float64)))  \n",
    "\n",
    "# Extract the numeric values  \n",
    "numeric_values_leganes = df1l[numbers_onlyl]['values'].tolist()  \n",
    "print(numeric_values_leganes)\n",
    "\n",
    "############################################\"Getafe\"##################################\n",
    "city_datag = south_belt[south_belt[\"level5\"] == \"Getafe\" ]\n",
    "priceg = city_datag[\"price\"]\n",
    "ming = city_datag[\"price\"].min()\n",
    "maxg = city_datag[\"price\"].max()\n",
    "\n",
    "new_priceg = list(priceg)\n",
    "\n",
    "normalizedg = [(i + min)/(max - min) for i in new_priceg]\n",
    "#print(normalized)\n",
    "#This convertion to numbers got from chat GPT\n",
    "df1g = pd.DataFrame(normalizedg, columns=['values'])  \n",
    "\n",
    "# Filter only numeric values  \n",
    "numbers_onlyg = df1g['values'].apply(lambda x: isinstance(x, (int, float, np.float64)))  \n",
    "\n",
    "# Extract the numeric values  \n",
    "numeric_values_getafe = df1g[numbers_onlyg]['values'].tolist()  \n",
    "print(numeric_values_getafe)\n",
    "#####################################Alcorcón#########################################\n",
    "\n",
    "city_dataa = south_belt[south_belt[\"level5\"] == \"Alcorcón\" ]\n",
    "pricea = city_dataa[\"price\"]\n",
    "mina = city_dataa[\"price\"].min()\n",
    "maxa = city_dataa[\"price\"].max()\n",
    "\n",
    "new_pricea = list(pricea)\n",
    "\n",
    "normalizeda = [(i + min)/(max - min) for i in new_pricea]\n",
    "#print(normalized)\n",
    "#This convertion to numbers got from chat GPT\n",
    "df1a = pd.DataFrame(normalizeda, columns=['values'])  \n",
    "\n",
    "# Filter only numeric values  \n",
    "numbers_onlya = df1a['values'].apply(lambda x: isinstance(x, (int, float, np.float64)))  \n",
    "\n",
    "# Extract the numeric values  \n",
    "numeric_values_alcorcon = df1a[numbers_onlya]['values'].tolist()  \n",
    "print(numeric_values_alcorcon)\n",
    "######################################################################################\n",
    "\n",
    "data = [numeric_values_fuenlabrada , numeric_values_leganes, numeric_values_getafe, numeric_values_alcorcon]\n",
    "\n",
    "\n",
    "\n",
    "plt.figure(figsize = (10, 5))\n",
    "\n",
    "plt.hist(data, bins = 10, alpha = 0.7)\n",
    "\n",
    "plt.title(\"Normalization of Variable of prices for Fuenlabrada, Leganés, Getafe, Alcorcón\")\n",
    "#[\"Fuenlabrada\", \"Leganés\", \"Getafe\", \"Alcorcón\" ]\n",
    "plt.show()"
   ]
  },
  {
   "attachments": {},
   "cell_type": "markdown",
   "id": "precise-heavy",
   "metadata": {},
   "source": [
    "we can see that the Fuenlabrada have more accessible houses and Getafe have more options for more expensive houses. But even oon the most expensive city, there are afordable houses. "
   ]
  },
  {
   "attachments": {},
   "cell_type": "markdown",
   "id": "patent-jonathan",
   "metadata": {},
   "source": [
    "#### Exercise 19. What can you say about the price per square meter (price/m2) between the towns of \"Getafe\" and \"Alcorcón\"? You must use the subset obtained in Exercise 14 (★★☆)\n",
    "\n",
    "Hint: Create a new column called `pps` (price per square meter) and then analyze the values."
   ]
  },
  {
   "cell_type": "code",
   "execution_count": null,
   "id": "initial-liverpool",
   "metadata": {},
   "outputs": [
    {
     "name": "stdout",
     "output_type": "stream",
     "text": [
      " The average price per square meter in Getafe is 1973.3333333333333 USD\n",
      " The average price per square meter in Alcorcón is 2207.7922077922076 USD \n"
     ]
    },
    {
     "data": {
      "text/html": [
       "<div>\n",
       "<style scoped>\n",
       "    .dataframe tbody tr th:only-of-type {\n",
       "        vertical-align: middle;\n",
       "    }\n",
       "\n",
       "    .dataframe tbody tr th {\n",
       "        vertical-align: top;\n",
       "    }\n",
       "\n",
       "    .dataframe thead th {\n",
       "        text-align: right;\n",
       "    }\n",
       "</style>\n",
       "<table border=\"1\" class=\"dataframe\">\n",
       "  <thead>\n",
       "    <tr style=\"text-align: right;\">\n",
       "      <th>level5</th>\n",
       "      <th>Getafe</th>\n",
       "      <th>Alcorcón</th>\n",
       "    </tr>\n",
       "  </thead>\n",
       "  <tbody>\n",
       "    <tr>\n",
       "      <th>pps</th>\n",
       "      <td>1973.333333</td>\n",
       "      <td>2207.792208</td>\n",
       "    </tr>\n",
       "  </tbody>\n",
       "</table>\n",
       "</div>"
      ],
      "text/plain": [
       "level5       Getafe     Alcorcón\n",
       "pps     1973.333333  2207.792208"
      ]
     },
     "execution_count": 39,
     "metadata": {},
     "output_type": "execute_result"
    }
   ],
   "source": [
    "import pandas as pd\n",
    "ds = pd.read_csv('assets/real_estate.csv', sep=';')\n",
    "\n",
    "ds[\"pps\"] = ds[\"price\"] / ds[\"surface\"]\n",
    "\n",
    "city = [\"Fuenlabrada\", \"Leganés\", \"Getafe\", \"Alcorcón\" ]\n",
    "south_belt = ds[ds[\"level5\"].isin(city)]\n",
    "\n",
    "\n",
    "pp_medium = south_belt.groupby('level5')['pps'].median()\n",
    "\n",
    "dataframe = pd.DataFrame(pp_medium).transpose()\n",
    "pp_medium_filtered = pp_medium.loc[['Getafe', \"Alcorcón\"]]\n",
    "\n",
    "getafe_city = pp_medium.get('Getafe', None)\n",
    "alcor_city = pp_medium.get('Alcorcón', None)\n",
    "\n",
    "\n",
    " \n",
    "\n",
    "#third = south_belt[south_belt[\"level5\"] == \"Getafe\"]\n",
    "#aver = third[\"pps\"].median()\n",
    "#\n",
    "#fourth = south_belt[south_belt[\"level5\"] == \"Alcorcón\"]\n",
    "#aver1 = fourth[\"pps\"].median()\n",
    "#\n",
    "#median_pps = {\n",
    "#    \"Getafe\"  : aver,\n",
    "#    \"Alcorcón\" : aver1\n",
    "#}\n",
    "#dataframe = pd.DataFrame(median_pps, index = [\"price per square meter\"])\n",
    "#Conclusion\n",
    "\n",
    "print(f\" The average price per square meter in Getafe is {getafe_city} USD\")\n",
    "print(f\" The average price per square meter in Alcorcón is {alcor_city} USD \")\n",
    "dataframe = pd.DataFrame(pp_medium_filtered).transpose()\n",
    "dataframe\n",
    "\n",
    "\n",
    "\n",
    "\n",
    "\n"
   ]
  },
  {
   "attachments": {},
   "cell_type": "markdown",
   "id": "enhanced-moscow",
   "metadata": {},
   "source": [
    "#### Exercise 20. Make the same plot for 4 different populations (level5 column) and rearrange them on the same graph. You must use the subset obtained in Exercise 14 (★★☆)\n",
    " \n",
    "Hint: Make a scatter plot of each population using subplots."
   ]
  },
  {
   "cell_type": "code",
   "execution_count": null,
   "id": "accepting-airfare",
   "metadata": {},
   "outputs": [
    {
     "name": "stdout",
     "output_type": "stream",
     "text": [
      "1755.8201058201057\n",
      "0               Arganda del Rey\n",
      "1                   Fuenlabrada\n",
      "2            Boadilla del Monte\n",
      "3                   Fuenlabrada\n",
      "4               Arganda del Rey\n",
      "                  ...          \n",
      "15330            Madrid Capital\n",
      "15331    Velilla de San Antonio\n",
      "15332              Torrelodones\n",
      "15333    Velilla de San Antonio\n",
      "15334            Madrid Capital\n",
      "Name: level5, Length: 15335, dtype: object\n",
      "<class 'numpy.float64'>\n"
     ]
    },
    {
     "data": {
      "text/plain": [
       "Text(0.5, 1.0, 'Bar chart')"
      ]
     },
     "execution_count": 40,
     "metadata": {},
     "output_type": "execute_result"
    },
    {
     "data": {
      "image/png": "[encoded data removed]",
      "text/plain": [
       "<Figure size 3000x500 with 1 Axes>"
      ]
     },
     "metadata": {},
     "output_type": "display_data"
    }
   ],
   "source": [
    "import pandas as pd\n",
    "import matplotlib.pyplot as plt \n",
    "import numpy as np\n",
    "\n",
    "ds = pd.read_csv('assets/real_estate.csv', sep=';')\n",
    "  \n",
    "ds[\"pps\"] = ds[\"price\"] / ds[\"surface\"]\n",
    "\n",
    "city = [\"Fuenlabrada\", \"Torrelodones\", \"Arganda del Rey\", \"Boadilla del Monte\" ]\n",
    "south_belt = ds[ds[\"level5\"].isin(city)]\n",
    "\n",
    "datam = south_belt[south_belt[\"level5\"] == \"Fuenlabrada\"]\n",
    "averm = datam[\"pps\"].median()\n",
    "\n",
    "datat = south_belt[south_belt[\"level5\"] == \"Torrelodones\"]\n",
    "avert = datat[\"pps\"].median()\n",
    "\n",
    "dataa = south_belt[south_belt[\"level5\"] == \"Arganda del Rey\"]\n",
    "avera = dataa[\"pps\"].median()\n",
    "\n",
    "datab = south_belt[south_belt[\"level5\"] == \"Boadilla del Monte\"]\n",
    "averb = datab[\"pps\"].median()\n",
    "print(avera)\n",
    "print(ds[\"level5\"])\n",
    " \n",
    "labels = [\"Fuenlabrada\", \"Torrelodones\", \"Arganda del Rey\", \"Boadilla del Monte\" ]\n",
    "print(type(averm))\n",
    "values = [averm, avert, avera, averb]\n",
    "\n",
    "plt.figure(figsize = (30, 5))\n",
    "\n",
    "plt.xlabel('Cities')  \n",
    "plt.ylabel('PPS') \n",
    "plt.bar(labels, values)\n",
    "plt.title(\"Bar chart\")"
   ]
  },
  {
   "attachments": {},
   "cell_type": "markdown",
   "id": "blocked-effects",
   "metadata": {},
   "source": [
    "#### Exercise 21. Make a plot of the coordinates (latitude and longitude columns) of the south belt of Madrid by color of each population (you must use the subset obtained in Exercise 14) (★★★★)\n",
    "\n",
    "Execute the following cell, and then start coding in the next one. You must implement a simple code that transforms the coordinates columns in a Python dictionary (add more information if needed) and then add it to the map"
   ]
  },
  {
   "cell_type": "code",
   "execution_count": null,
   "id": "headed-privacy",
   "metadata": {},
   "outputs": [
    {
     "data": {
      "application/vnd.jupyter.widget-view+json": {
       "model_id": "e56b3918ac10406e9f0f2bae6c10c1d0",
       "version_major": 2,
       "version_minor": 0
      },
      "text/plain": [
       "Map(center=[60, -2.2], controls=(ZoomControl(options=['position', 'zoom_in_text', 'zoom_in_title', 'zoom_out_t…"
      ]
     },
     "execution_count": 41,
     "metadata": {},
     "output_type": "execute_result"
    }
   ],
   "source": [
    "from ipyleaflet import Map, basemaps, Marker, MarkerCluster, AwesomeIcon \n",
    "\n",
    "# Map centered on (60 degrees latitude and -2.2 degrees longitude)\n",
    "# Latitude, longitude\n",
    "map = Map(center = (60, -2.2), zoom = 2, min_zoom = 1, max_zoom = 20, \n",
    "    basemap=basemaps.OpenStreetMap.Mapnik)\n",
    "map"
   ]
  },
  {
   "cell_type": "code",
   "execution_count": null,
   "id": "present-mistress",
   "metadata": {},
   "outputs": [
    {
     "data": {
      "application/vnd.jupyter.widget-view+json": {
       "model_id": "e56b3918ac10406e9f0f2bae6c10c1d0",
       "version_major": 2,
       "version_minor": 0
      },
      "text/plain": [
       "Map(center=[60, -2.2], controls=(ZoomControl(options=['position', 'zoom_in_text', 'zoom_in_title', 'zoom_out_t…"
      ]
     },
     "execution_count": 42,
     "metadata": {},
     "output_type": "execute_result"
    }
   ],
   "source": [
    "## HERE: plot the coordinates of the estates\n",
    "\n",
    "## PUT HERE YOUR CODE:\n",
    "\n",
    "## this One was from a code received. I will study to make it again.\n",
    "colors = ('red', 'blue', 'green', 'orange')\n",
    "data = south_belt[south_belt['level5'].isin((\"Fuenlabrada\", \"Leganés\", \"Getafe\", \"Alcorcón\"))]\n",
    "populations = data['level5'].unique()\n",
    "markers = []\n",
    "to_change = {\n",
    "',': '.',\n",
    "}\n",
    "\n",
    "for population in populations:\n",
    "    population_df = data[(data['level5'] == population) & (data['price'] > 0)]\n",
    "    for index in range(len(population_df)):\n",
    "        location = (population_df.iloc[index]['latitude'].replace(',', '.'),\n",
    "            population_df.iloc[index]['longitude'].replace(',', '.'))\n",
    "        indexes = np.where(populations == population)[0][0]\n",
    "        color = colors[indexes]\n",
    "        icon = AwesomeIcon(\n",
    "            name='home',\n",
    "            marker_color=color,\n",
    "            icon_color='black',\n",
    "            spin=False\n",
    "            )\n",
    "        marker = Marker(icon=icon, location=location)\n",
    "        markers.append(marker)\n",
    "\n",
    "marker_cluster = MarkerCluster(\n",
    "    markers=markers\n",
    ")\n",
    "\n",
    "map.add_layer(marker_cluster)\n",
    "map\n",
    "#city = [\"Fuenlabrada\", \"Leganés\", \"Getafe\", \"Alcorcón\" ]\n",
    "#south_belt = ds[ds[\"level5\"].isin(city)]\n",
    "#\n",
    "#first = south_belt[south_belt[\"level5\"] == \"Fuenlabrada\"]\n",
    "#lat_fuen = first[\"latitude\"]\n",
    "#lon_fuen = first[\"longitude\"]\n",
    "#\n",
    "#second = south_belt[south_belt[\"level5\"] == \"Leganés\"]\n",
    "#lat_lega = second[\"latitude\"]\n",
    "#lon_lega = second[\"longitude\"]\n",
    "#\n",
    "#third = south_belt[south_belt[\"level5\"] == \"Getafe\"]\n",
    "#lat_geta = third[\"latitude\"]\n",
    "#lon_geta = third[\"longitude\"]\n",
    "#\n",
    "#fourth = south_belt[south_belt[\"level5\"] == \"Alcorcón\"]\n",
    "#lat_alco = fourth[\"latitude\"]\n",
    "#lon_alco = fourth[\"longitude\"]\n",
    "#\n",
    "#ds.columns"
   ]
  }
 ],
 "metadata": {
  "kernelspec": {
   "display_name": "Python 3",
   "language": "python",
   "name": "python3"
  },
  "language_info": {
   "codemirror_mode": {
    "name": "ipython",
    "version": 3
   },
   "file_extension": ".py",
   "mimetype": "text/x-python",
   "name": "python",
   "nbconvert_exporter": "python",
   "pygments_lexer": "ipython3",
   "version": "3.11.4"
  }
 },
 "nbformat": 4,
 "nbformat_minor": 5
}
